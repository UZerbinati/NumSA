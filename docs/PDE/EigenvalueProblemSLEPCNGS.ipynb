{
 "cells": [
  {
   "cell_type": "markdown",
   "id": "9589c1cc",
   "metadata": {},
   "source": [
    "## Eigenvalue Problem (NGS)\n",
    "\n",
    "In this notebook we study how to solve an eigenvalue problem using [NGSolve](https://ngsolve.org/) and [SLEPC](https://slepc.upv.es/), in parallel."
   ]
  },
  {
   "cell_type": "markdown",
   "id": "57885c8e",
   "metadata": {},
   "source": [
    "__Note__ _to run the code in parallel using a notebook you first need to initialize ipcluster, using the command:_\n",
    "ipcluster start --engines=MPI -n 4"
   ]
  },
  {
   "cell_type": "code",
   "execution_count": 1,
   "id": "7611b0df",
   "metadata": {},
   "outputs": [
    {
     "data": {
      "text/plain": [
       "[0, 1, 2, 3]"
      ]
     },
     "execution_count": 1,
     "metadata": {},
     "output_type": "execute_result"
    }
   ],
   "source": [
    "from ipyparallel import Client\n",
    "c = Client()\n",
    "c.ids"
   ]
  },
  {
   "cell_type": "code",
   "execution_count": 12,
   "id": "401157da",
   "metadata": {
    "scrolled": false
   },
   "outputs": [
    {
     "data": {
      "text/plain": [
       "[stdout:0] 0 4\n",
       "Mesh N. 2\n",
       "[(2.2404989670685476+0j)]\n",
       "0 4\n",
       "Mesh N. 3\n",
       "[(2.0458028065043337+0j)]\n"
      ]
     },
     "metadata": {},
     "output_type": "display_data"
    },
    {
     "data": {
      "text/plain": [
       "[stdout:1] 1 4\n",
       "Mesh N. 2\n",
       "[(2.2404989670685476+0j)]\n",
       "1 4\n",
       "Mesh N. 3\n",
       "[(2.0458028065043337+0j)]\n"
      ]
     },
     "metadata": {},
     "output_type": "display_data"
    },
    {
     "data": {
      "text/plain": [
       "[stdout:2] 2 4\n",
       "Mesh N. 2\n",
       "[(2.2404989670685476+0j)]\n",
       "2 4\n",
       "Mesh N. 3\n",
       "[(2.0458028065043337+0j)]\n"
      ]
     },
     "metadata": {},
     "output_type": "display_data"
    },
    {
     "data": {
      "text/plain": [
       "[stdout:3] 3 4\n",
       "Mesh N. 2\n",
       "[(2.2404989670685476+0j)]\n",
       "3 4\n",
       "Mesh N. 3\n",
       "[(2.0458028065043337+0j)]\n"
      ]
     },
     "metadata": {},
     "output_type": "display_data"
    }
   ],
   "source": [
    "%%px\n",
    "#STDLIB\n",
    "from math import pi\n",
    "\n",
    "#NGSOLVE/NETGEN\n",
    "from netgen.geom2d import unit_square\n",
    "from ngsolve import *\n",
    "from numsa.NGSlepc import *\n",
    "from mpi4py import MPI\n",
    "comm = MPI.COMM_WORLD\n",
    "rank = comm.rank\n",
    "npro = comm.size\n",
    "H = []\n",
    "E = []\n",
    "for k in range(2,4):\n",
    "    print (rank, npro)\n",
    "    print(\"Mesh N. {}\".format(k))\n",
    "    h = 2**(-k);\n",
    "    E = E + [h]; \n",
    "    if comm.rank == 0:\n",
    "        ngmesh = unit_square.GenerateMesh(maxh=h).Distribute(comm)\n",
    "    else:\n",
    "        ngmesh = netgen.meshing.Mesh.Receive(comm)\n",
    "\n",
    "    mesh = Mesh(ngmesh)\n",
    "\n",
    "    fes = H1(mesh, order=1, dirichlet=\".*\")\n",
    "    u = fes.TrialFunction()\n",
    "    v = fes.TestFunction()\n",
    "\n",
    "    a = BilinearForm(fes)\n",
    "    a += grad(u)*grad(v)*dx\n",
    "    \n",
    "    m = BilinearForm(fes)\n",
    "    m += u*v*dx\n",
    "\n",
    "    a.Assemble()\n",
    "    m.Assemble()\n",
    "\n",
    "    EP = SLEPcEigenProblem(\"GHEP\",\"krylovschur\")\n",
    "    EP.SpectralTransformation(\"sinvert\")\n",
    "    \n",
    "    PC = EP.KSP.getPC();\n",
    "    PC.setType(\"lu\");\n",
    "    PC.setFactorSolverType(\"mumps\");\n",
    "    \n",
    "    EP.setOperators([a.mat,m.mat],fes.FreeDofs())\n",
    "    EP.setWhich(1);\n",
    "    \n",
    "    EP.Solve()\n",
    "    \n",
    "    lam, gfur, gfui = EP.getPairs(fes) \n",
    "    print([l/pi**2 for l in lam])\n",
    "    E = E + [abs(lam[0]/pi**2-2)];\n",
    "    "
   ]
  },
  {
   "cell_type": "code",
   "execution_count": 9,
   "id": "f862a4ce",
   "metadata": {},
   "outputs": [
    {
     "data": {
      "text/plain": [
       "\u001b[0;31mOut[0:6]: \u001b[0m[0.25, 0.24049896706854756, 0.125, 0.04580280650433366]"
      ]
     },
     "metadata": {
      "after": [],
      "completed": "2021-11-01T09:49:42.659759",
      "data": {},
      "engine_id": 0,
      "engine_uuid": "f9b95440-8bb4c4de4a3973647503b7f7",
      "error": null,
      "execute_input": "E\n",
      "execute_result": {
       "data": {
        "text/plain": "[0.25, 0.24049896706854756, 0.125, 0.04580280650433366]"
       },
       "execution_count": 6,
       "metadata": {}
      },
      "follow": [],
      "is_broadcast": false,
      "is_coalescing": false,
      "msg_id": "b5a51c49-54ad00062a721e238bf9767b_37",
      "outputs": [],
      "received": "2021-11-01T09:49:42.661291",
      "started": "2021-11-01T09:49:42.650962",
      "status": "ok",
      "stderr": "",
      "stdout": "",
      "submitted": "2021-11-01T09:49:42.648615"
     },
     "output_type": "display_data"
    },
    {
     "data": {
      "text/plain": [
       "\u001b[0;31mOut[1:6]: \u001b[0m[0.25, 0.24049896706854756, 0.125, 0.04580280650433366]"
      ]
     },
     "metadata": {
      "after": [],
      "completed": "2021-11-01T09:49:42.653929",
      "data": {},
      "engine_id": 1,
      "engine_uuid": "ba4ab1f8-a28b25416014a6bbf44c86d3",
      "error": null,
      "execute_input": "E\n",
      "execute_result": {
       "data": {
        "text/plain": "[0.25, 0.24049896706854756, 0.125, 0.04580280650433366]"
       },
       "execution_count": 6,
       "metadata": {}
      },
      "follow": [],
      "is_broadcast": false,
      "is_coalescing": false,
      "msg_id": "b5a51c49-54ad00062a721e238bf9767b_38",
      "outputs": [],
      "received": "2021-11-01T09:49:42.656200",
      "started": "2021-11-01T09:49:42.651143",
      "status": "ok",
      "stderr": "",
      "stdout": "",
      "submitted": "2021-11-01T09:49:42.648806"
     },
     "output_type": "display_data"
    },
    {
     "data": {
      "text/plain": [
       "\u001b[0;31mOut[2:6]: \u001b[0m[0.25, 0.24049896706854756, 0.125, 0.04580280650433366]"
      ]
     },
     "metadata": {
      "after": [],
      "completed": "2021-11-01T09:49:42.655310",
      "data": {},
      "engine_id": 2,
      "engine_uuid": "ef43fdee-194e0b72002d7643afaaa836",
      "error": null,
      "execute_input": "E\n",
      "execute_result": {
       "data": {
        "text/plain": "[0.25, 0.24049896706854756, 0.125, 0.04580280650433366]"
       },
       "execution_count": 6,
       "metadata": {}
      },
      "follow": [],
      "is_broadcast": false,
      "is_coalescing": false,
      "msg_id": "b5a51c49-54ad00062a721e238bf9767b_39",
      "outputs": [],
      "received": "2021-11-01T09:49:42.657250",
      "started": "2021-11-01T09:49:42.651979",
      "status": "ok",
      "stderr": "",
      "stdout": "",
      "submitted": "2021-11-01T09:49:42.649508"
     },
     "output_type": "display_data"
    },
    {
     "data": {
      "text/plain": [
       "\u001b[0;31mOut[3:6]: \u001b[0m[0.25, 0.24049896706854756, 0.125, 0.04580280650433366]"
      ]
     },
     "metadata": {
      "after": [],
      "completed": "2021-11-01T09:49:42.655044",
      "data": {},
      "engine_id": 3,
      "engine_uuid": "8b11f485-6146b2bd7329eb3ec9b59a9b",
      "error": null,
      "execute_input": "E\n",
      "execute_result": {
       "data": {
        "text/plain": "[0.25, 0.24049896706854756, 0.125, 0.04580280650433366]"
       },
       "execution_count": 6,
       "metadata": {}
      },
      "follow": [],
      "is_broadcast": false,
      "is_coalescing": false,
      "msg_id": "b5a51c49-54ad00062a721e238bf9767b_40",
      "outputs": [],
      "received": "2021-11-01T09:49:42.658588",
      "started": "2021-11-01T09:49:42.652105",
      "status": "ok",
      "stderr": "",
      "stdout": "",
      "submitted": "2021-11-01T09:49:42.649641"
     },
     "output_type": "display_data"
    }
   ],
   "source": [
    "%%px\n",
    "E"
   ]
  },
  {
   "cell_type": "code",
   "execution_count": 15,
   "id": "9a594693",
   "metadata": {
    "scrolled": false
   },
   "outputs": [
    {
     "data": {
      "text/plain": [
       "[stdout:0] 0 4\n",
       "[(2.0063458676628554+0j), (5.039046175256581+0j), (5.039770250587423+0j), (8.102182495028751+0j), (10.152804821204073+0j)]\n"
      ]
     },
     "metadata": {},
     "output_type": "display_data"
    }
   ],
   "source": [
    "%%px\n",
    "#STDLIB\n",
    "from math import pi\n",
    "\n",
    "#NGSOLVE/NETGEN\n",
    "from netgen.geom2d import unit_square\n",
    "from ngsolve import *\n",
    "import ngsolve.ngs2petsc as N2P\n",
    "\n",
    "\n",
    "#MPI\n",
    "from mpi4py import MPI\n",
    "comm = MPI.COMM_WORLD\n",
    "rank = comm.rank\n",
    "npro = comm.size\n",
    "if rank == 0:\n",
    "    print (rank, npro)\n",
    "\n",
    "if comm.rank == 0:\n",
    "    ngmesh = unit_square.GenerateMesh(maxh=0.05).Distribute(comm)\n",
    "else:\n",
    "    ngmesh = netgen.meshing.Mesh.Receive(comm)\n",
    "\n",
    "mesh = Mesh(ngmesh)\n",
    "\n",
    "fes = H1(mesh, order=1, dirichlet=\".*\")\n",
    "u = fes.TrialFunction()\n",
    "v = fes.TestFunction()\n",
    "\n",
    "a = BilinearForm(fes)\n",
    "a += grad(u)*grad(v)*dx\n",
    "pre = Preconditioner(a, type=\"direct\", inverse=\"masterinverse\")\n",
    "\n",
    "m = BilinearForm(fes)\n",
    "m += u*v*dx\n",
    "\n",
    "a.Assemble()\n",
    "m.Assemble()\n",
    "\n",
    "EP = SLEPcEigenProblem(\"GHEP\",\"krylovschur\")\n",
    "EP.SpectralTransformation(\"sinvert\")\n",
    "\n",
    "PC = EP.KSP.getPC();\n",
    "PC.setType(\"lu\");\n",
    "PC.setFactorSolverType(\"mumps\");\n",
    "\n",
    "EP.setOperators([a.mat,m.mat],fes.FreeDofs())\n",
    "EP.setWhich(5);\n",
    "\n",
    "EP.Solve()\n",
    "\n",
    "lam, gfur, gfui = EP.getPairs(fes) \n",
    "if rank == 0:\n",
    "    print([l/pi**2 for l in lam])\n",
    "eig1 = GridFunction(fes); eig1.vec.data = gfur.vecs[0].data; \n",
    "eig2 = GridFunction(fes); eig2.vec.data = gfur.vecs[1].data;\n",
    "eig3 = GridFunction(fes); eig3.vec.data = gfur.vecs[2].data; \n",
    "eig4 = GridFunction(fes); eig4.vec.data = gfur.vecs[3].data;"
   ]
  },
  {
   "cell_type": "code",
   "execution_count": 16,
   "id": "a05f1879",
   "metadata": {
    "scrolled": false
   },
   "outputs": [
    {
     "data": {
      "application/vnd.jupyter.widget-view+json": {
       "model_id": "cd99c85d4c294f5f8f9b9bbbc061ba2b",
       "version_major": 2,
       "version_minor": 0
      },
      "text/plain": [
       "WebGuiWidget(value={'ngsolve_version': '6.2.2105-64-g8568b5f22', 'mesh_dim': 2, 'order2d': 2, 'order3d': 2, 'd…"
      ]
     },
     "metadata": {},
     "output_type": "display_data"
    },
    {
     "data": {
      "application/vnd.jupyter.widget-view+json": {
       "model_id": "0ae739c1c57848288d7822104ce2da7c",
       "version_major": 2,
       "version_minor": 0
      },
      "text/plain": [
       "WebGuiWidget(value={'ngsolve_version': '6.2.2105-64-g8568b5f22', 'mesh_dim': 2, 'order2d': 2, 'order3d': 2, 'd…"
      ]
     },
     "metadata": {},
     "output_type": "display_data"
    },
    {
     "data": {
      "application/vnd.jupyter.widget-view+json": {
       "model_id": "dad640b2081f4f36aa47c4e73c7051ad",
       "version_major": 2,
       "version_minor": 0
      },
      "text/plain": [
       "WebGuiWidget(value={'ngsolve_version': '6.2.2105-64-g8568b5f22', 'mesh_dim': 2, 'order2d': 2, 'order3d': 2, 'd…"
      ]
     },
     "metadata": {},
     "output_type": "display_data"
    },
    {
     "data": {
      "application/vnd.jupyter.widget-view+json": {
       "model_id": "452f9bdb51a04c8fb3bc8a3cd4d397fc",
       "version_major": 2,
       "version_minor": 0
      },
      "text/plain": [
       "WebGuiWidget(value={'ngsolve_version': '6.2.2105-64-g8568b5f22', 'mesh_dim': 2, 'order2d': 2, 'order3d': 2, 'd…"
      ]
     },
     "metadata": {},
     "output_type": "display_data"
    },
    {
     "data": {
      "text/plain": [
       "BaseWebGuiScene"
      ]
     },
     "execution_count": 16,
     "metadata": {},
     "output_type": "execute_result"
    }
   ],
   "source": [
    "from ngsolve.webgui import Draw\n",
    "eig1 = c[:][\"eig1\"]\n",
    "eig2 = c[:][\"eig2\"]\n",
    "eig3 = c[:][\"eig3\"]\n",
    "eig4 = c[:][\"eig4\"]\n",
    "Draw (eig1[0])\n",
    "Draw (eig2[0])\n",
    "Draw (eig3[0])\n",
    "Draw (eig4[0])"
   ]
  }
 ],
 "metadata": {
  "kernelspec": {
   "display_name": "Python 3",
   "language": "python",
   "name": "python3"
  },
  "language_info": {
   "codemirror_mode": {
    "name": "ipython",
    "version": 3
   },
   "file_extension": ".py",
   "mimetype": "text/x-python",
   "name": "python",
   "nbconvert_exporter": "python",
   "pygments_lexer": "ipython3",
   "version": "3.8.10"
  }
 },
 "nbformat": 4,
 "nbformat_minor": 5
}
