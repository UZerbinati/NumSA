{
 "cells": [
  {
   "cell_type": "markdown",
   "id": "9589c1cc",
   "metadata": {},
   "source": [
    "## Eigenvalue Problem (NGS)\n",
    "\n",
    "In this notebook we study how to solve an eigenvalue problem using [NGSolve](https://ngsolve.org/) and [SLEPC](https://slepc.upv.es/), in parallel."
   ]
  },
  {
   "cell_type": "markdown",
   "id": "57885c8e",
   "metadata": {},
   "source": [
    "__Note__ _to run the code in parallel using a notebook you first need to initialize ipcluster, using the command:_\n",
    "ipcluster start –engines=MPI -n 4"
   ]
  },
  {
   "cell_type": "code",
   "execution_count": 1,
   "id": "6662c120",
   "metadata": {},
   "outputs": [
    {
     "data": {
      "text/plain": [
       "[0, 1, 2, 3]"
      ]
     },
     "execution_count": 1,
     "metadata": {},
     "output_type": "execute_result"
    }
   ],
   "source": [
    "from ipyparallel import Client\n",
    "c = Client()\n",
    "c.ids"
   ]
  },
  {
   "cell_type": "code",
   "execution_count": 2,
   "id": "401157da",
   "metadata": {
    "scrolled": false
   },
   "outputs": [
    {
     "data": {
      "text/plain": [
       "[stdout:3] Including NGS to PETSC\n"
      ]
     },
     "metadata": {},
     "output_type": "display_data"
    },
    {
     "ename": "CompositeError",
     "evalue": "one or more exceptions from call to method: %px\n[Engine Exception]EngineError: Engine 0 died while running task '6d777e3d-092a2adb2353003b04ba54d3_1'\n[Engine Exception]EngineError: Engine 1 died while running task '6d777e3d-092a2adb2353003b04ba54d3_2'\n[Engine Exception]EngineError: Engine 2 died while running task '6d777e3d-092a2adb2353003b04ba54d3_3'\n[Engine Exception]EngineError: Engine 3 died while running task '6d777e3d-092a2adb2353003b04ba54d3_4'",
     "output_type": "error",
     "traceback": [
      "[Engine Exception]",
      "Traceback (most recent call last):",
      "",
      "  File \"/home/uzerbinati/.local/lib/python3.8/site-packages/ipyparallel/client/client.py\", line 896, in _handle_stranded_msgs",
      "    raise error.EngineError(",
      "",
      "ipyparallel.error.EngineError: Engine 0 died while running task '6d777e3d-092a2adb2353003b04ba54d3_1'",
      "",
      "[Engine Exception]",
      "Traceback (most recent call last):",
      "",
      "  File \"/home/uzerbinati/.local/lib/python3.8/site-packages/ipyparallel/client/client.py\", line 896, in _handle_stranded_msgs",
      "    raise error.EngineError(",
      "",
      "ipyparallel.error.EngineError: Engine 1 died while running task '6d777e3d-092a2adb2353003b04ba54d3_2'",
      "",
      "[Engine Exception]",
      "Traceback (most recent call last):",
      "",
      "  File \"/home/uzerbinati/.local/lib/python3.8/site-packages/ipyparallel/client/client.py\", line 896, in _handle_stranded_msgs",
      "    raise error.EngineError(",
      "",
      "ipyparallel.error.EngineError: Engine 2 died while running task '6d777e3d-092a2adb2353003b04ba54d3_3'",
      "",
      "[Engine Exception]",
      "Traceback (most recent call last):",
      "",
      "  File \"/home/uzerbinati/.local/lib/python3.8/site-packages/ipyparallel/client/client.py\", line 896, in _handle_stranded_msgs",
      "    raise error.EngineError(",
      "",
      "ipyparallel.error.EngineError: Engine 3 died while running task '6d777e3d-092a2adb2353003b04ba54d3_4'",
      ""
     ]
    }
   ],
   "source": [
    "%%px\n",
    "#STDLIB\n",
    "from math import pi\n",
    "\n",
    "#NGSOLVE/NETGEN\n",
    "from netgen.geom2d import unit_square\n",
    "from ngsolve import *\n",
    "from numsa.NGSlepc import *\n",
    "from mpi4py import MPI\n",
    "comm = MPI.COMM_WORLD\n",
    "rank = comm.rank\n",
    "npro = comm.size\n",
    "H = []\n",
    "E = []\n",
    "for k in range(1,2):\n",
    "    print (rank, npro)\n",
    "    print(\"Mesh N. {}\".format(k))\n",
    "    h = 2**(-k);\n",
    "    E = E + [h]; \n",
    "    if comm.rank == 0:\n",
    "        ngmesh = unit_square.GenerateMesh(maxh=h).Distribute(comm)\n",
    "    else:\n",
    "        ngmesh = netgen.meshing.Mesh.Receive(comm)\n",
    "\n",
    "    mesh = Mesh(ngmesh)\n",
    "\n",
    "    fes = H1(mesh, order=1, dirichlet=\".*\")\n",
    "    u = fes.TrialFunction()\n",
    "    v = fes.TestFunction()\n",
    "\n",
    "    a = BilinearForm(fes)\n",
    "    a += grad(u)*grad(v)*dx\n",
    "    \n",
    "    m = BilinearForm(fes)\n",
    "    m += u*v*dx\n",
    "\n",
    "    a.Assemble()\n",
    "    m.Assemble()\n",
    "\n",
    "    EP = SLEPcEigenProblem(\"GHEP\",\"krylovschur\")\n",
    "    EP.SpectralTransformation(\"sinvert\")\n",
    "\n",
    "    PC = EP.KSP.getPC();\n",
    "    PC.setType(\"lu\");\n",
    "    PC.setFactorSolverType(\"mumps\");\n",
    "\n",
    "    EP.setOperators([a.mat,m.mat],fes.FreeDofs())\n",
    "    EP.setWhich(5);\n",
    "    \n",
    "    EP.Solve()\n",
    "    \n",
    "    lam, gfur, gfui = EP.getPairs(fes) \n",
    "    print([l/pi**2 for l in lam])\n",
    "    E = E + [abs(lam[0]/pi**2-2)];\n",
    "    "
   ]
  },
  {
   "cell_type": "code",
   "execution_count": null,
   "id": "f862a4ce",
   "metadata": {},
   "outputs": [],
   "source": [
    "E"
   ]
  },
  {
   "cell_type": "code",
   "execution_count": null,
   "id": "9a594693",
   "metadata": {
    "scrolled": false
   },
   "outputs": [],
   "source": [
    "%%px\n",
    "#STDLIB\n",
    "from math import pi\n",
    "\n",
    "#NGSOLVE/NETGEN\n",
    "from netgen.geom2d import unit_square\n",
    "from ngsolve import *\n",
    "import ngsolve.ngs2petsc as N2P\n",
    "\n",
    "\n",
    "#MPI\n",
    "from mpi4py import MPI\n",
    "comm = MPI.COMM_WORLD\n",
    "rank = comm.rank\n",
    "npro = comm.size\n",
    "if rank == 0:\n",
    "    print (rank, npro)\n",
    "\n",
    "if comm.rank == 0:\n",
    "    ngmesh = unit_square.GenerateMesh(maxh=0.1).Distribute(comm)\n",
    "else:\n",
    "    ngmesh = netgen.meshing.Mesh.Receive(comm)\n",
    "\n",
    "mesh = Mesh(ngmesh)\n",
    "\n",
    "fes = H1(mesh, order=1, dirichlet=\".*\")\n",
    "u = fes.TrialFunction()\n",
    "v = fes.TestFunction()\n",
    "\n",
    "a = BilinearForm(fes)\n",
    "a += grad(u)*grad(v)*dx\n",
    "pre = Preconditioner(a, type=\"direct\", inverse=\"masterinverse\")\n",
    "\n",
    "m = BilinearForm(fes)\n",
    "m += u*v*dx\n",
    "\n",
    "a.Assemble()\n",
    "m.Assemble()\n",
    "\n",
    "EP = N2P.SLEPcEigenProblem(\"GHEP\",\"krylovschur\")\n",
    "EP.SpectralTransformation(\"sinvert\")\n",
    "\n",
    "PC = EP.KSP.getPC();\n",
    "PC.setType(\"lu\");\n",
    "PC.setFactorSolverType(\"mumps\");\n",
    "\n",
    "EP.setOperators([a.mat,m.mat],fes.FreeDofs())\n",
    "EP.setWhich(5);\n",
    "\n",
    "EP.Solve()\n",
    "\n",
    "lam, gfur, gfui = EP.getPairs(fes) \n",
    "if rank == 0:\n",
    "    print([l/pi**2 for l in lam])\n",
    "eig1 = GridFunction(fes); eig1.vec.data = gfur.vecs[0].data; \n",
    "eig2 = GridFunction(fes); eig2.vec.data = gfur.vecs[1].data;\n",
    "eig3 = GridFunction(fes); eig3.vec.data = gfur.vecs[2].data; \n",
    "eig4 = GridFunction(fes); eig4.vec.data = gfur.vecs[3].data;"
   ]
  },
  {
   "cell_type": "code",
   "execution_count": null,
   "id": "a05f1879",
   "metadata": {
    "scrolled": false
   },
   "outputs": [],
   "source": [
    "eig1 = c[:][\"eig1\"]\n",
    "eig2 = c[:][\"eig2\"]\n",
    "eig3 = c[:][\"eig3\"]\n",
    "eig4 = c[:][\"eig4\"]\n",
    "Draw (eig1[0])\n",
    "Draw (eig2[0])\n",
    "Draw (eig3[0])\n",
    "Draw (eig4[0])"
   ]
  }
 ],
 "metadata": {
  "kernelspec": {
   "display_name": "Python 3",
   "language": "python",
   "name": "python3"
  },
  "language_info": {
   "codemirror_mode": {
    "name": "ipython",
    "version": 3
   },
   "file_extension": ".py",
   "mimetype": "text/x-python",
   "name": "python",
   "nbconvert_exporter": "python",
   "pygments_lexer": "ipython3",
   "version": "3.8.10"
  }
 },
 "nbformat": 4,
 "nbformat_minor": 5
}
