{
 "cells": [
  {
   "cell_type": "code",
   "execution_count": 2,
   "id": "58dacb5d",
   "metadata": {},
   "outputs": [],
   "source": [
    "from ufl import *"
   ]
  },
  {
   "cell_type": "code",
   "execution_count": 20,
   "id": "a31b8abb",
   "metadata": {},
   "outputs": [
    {
     "data": {
      "text/plain": [
       "Form([Integral(Inner(Grad(Argument(FunctionSpace(Mesh(VectorElement(FiniteElement('Lagrange', interval, 1), dim=1), -1), FiniteElement('Lagrange', interval, 1)), 0, None)), Grad(Argument(FunctionSpace(Mesh(VectorElement(FiniteElement('Lagrange', interval, 1), dim=1), -1), FiniteElement('Lagrange', interval, 1)), 1, None))), 'cell', Mesh(VectorElement(FiniteElement('Lagrange', interval, 1), dim=1), -1), 'everywhere', {}, None)])"
      ]
     },
     "execution_count": 20,
     "metadata": {},
     "output_type": "execute_result"
    }
   ],
   "source": [
    "#Let us forst crate a fintie element family to understand how\n",
    "#stuff works\n",
    "H1 = FiniteElement(\"Lagrange\", interval, 1)\n",
    "u = TrialFunction(H1)\n",
    "v = TestFunction(H1)\n",
    "def a(u,v):\n",
    "    return inner(grad(u),grad(v))*dx\n",
    "\n",
    "a(u,v)"
   ]
  }
 ],
 "metadata": {
  "kernelspec": {
   "display_name": "Python 3",
   "language": "python",
   "name": "python3"
  },
  "language_info": {
   "codemirror_mode": {
    "name": "ipython",
    "version": 3
   },
   "file_extension": ".py",
   "mimetype": "text/x-python",
   "name": "python",
   "nbconvert_exporter": "python",
   "pygments_lexer": "ipython3",
   "version": "3.8.10"
  }
 },
 "nbformat": 4,
 "nbformat_minor": 5
}
