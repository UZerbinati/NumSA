{
 "cells": [
  {
   "cell_type": "markdown",
   "id": "5ce61d7c",
   "metadata": {},
   "source": [
    "## Laplace Equation (NGS)\n",
    "### Torsion Problem"
   ]
  },
  {
   "cell_type": "markdown",
   "id": "7c264cc3",
   "metadata": {},
   "source": [
    "Let $\\Omega\\subset \\mathbb{R}^2$ be a bounded domain and $v\\in C^2(\\Omega)\\cap C^1(\\overline{\\Omega})$ be a solution of the following problem,\n",
    "\\begin{equation}\n",
    "\\begin{cases}\n",
    "    \\Delta v = -2 \\; in \\; \\Omega \\\\\n",
    "    v = 0 \\; on \\; \\partial\\Omega\n",
    "\\end{cases}\n",
    "\\end{equation}"
   ]
  },
  {
   "cell_type": "markdown",
   "id": "dc1921c0",
   "metadata": {},
   "source": [
    "verify numericaly that $u=|\\nabla u|^2$ attains a maximum at the boundary."
   ]
  },
  {
   "cell_type": "code",
   "execution_count": 1,
   "id": "106a4d74",
   "metadata": {
    "scrolled": false
   },
   "outputs": [
    {
     "data": {
      "application/vnd.jupyter.widget-view+json": {
       "model_id": "d2343f10fb074e40801879770120311a",
       "version_major": 2,
       "version_minor": 0
      },
      "text/plain": [
       "WebGuiWidget(value={'ngsolve_version': '6.2.2009-707-g30ddc5627', 'mesh_dim': 2, 'order2d': 2, 'order3d': 2, '…"
      ]
     },
     "metadata": {},
     "output_type": "display_data"
    },
    {
     "data": {
      "application/vnd.jupyter.widget-view+json": {
       "model_id": "bc6c64b03ddf4ce78fae268fe352efaa",
       "version_major": 2,
       "version_minor": 0
      },
      "text/plain": [
       "WebGuiWidget(value={'ngsolve_version': '6.2.2009-707-g30ddc5627', 'mesh_dim': 2, 'order2d': 2, 'order3d': 2, '…"
      ]
     },
     "metadata": {},
     "output_type": "display_data"
    },
    {
     "data": {
      "text/plain": [
       "BaseWebGuiScene"
      ]
     },
     "execution_count": 1,
     "metadata": {},
     "output_type": "execute_result"
    }
   ],
   "source": [
    "from ngsolve import *\n",
    "from ngsolve.webgui import Draw\n",
    "from netgen.geom2d import unit_square\n",
    "# generate a triangular mesh of mesh-size 0.2\n",
    "mesh = Mesh(unit_square.GenerateMesh(maxh=0.05))\n",
    "\n",
    "# H1-conforming finite element space\n",
    "fes = H1(mesh, order=2, dirichlet=[1,2,3,4])\n",
    "\n",
    "# define trial- and test-functions\n",
    "u = fes.TrialFunction()\n",
    "v = fes.TestFunction()\n",
    "\n",
    "# the right hand side\n",
    "f = LinearForm(fes)\n",
    "f += 2 * v * dx\n",
    "\n",
    "# the bilinear-form \n",
    "a = BilinearForm(fes, symmetric=True)\n",
    "a += grad(u)*grad(v)*dx\n",
    "\n",
    "a.Assemble()\n",
    "f.Assemble()\n",
    "\n",
    "# the solution field \n",
    "gfu = GridFunction(fes)\n",
    "gfu.vec.data = a.mat.Inverse(fes.FreeDofs(), inverse=\"sparsecholesky\") * f.vec\n",
    "# print (u.vec)\n",
    "\n",
    "\n",
    "# plot the solution (netgen-gui only)\n",
    "Draw (gfu)\n",
    "Draw (Norm(grad(gfu))**2, mesh, \"Torsion\")"
   ]
  }
 ],
 "metadata": {
  "kernelspec": {
   "display_name": "Python 3",
   "language": "python",
   "name": "python3"
  },
  "language_info": {
   "codemirror_mode": {
    "name": "ipython",
    "version": 3
   },
   "file_extension": ".py",
   "mimetype": "text/x-python",
   "name": "python",
   "nbconvert_exporter": "python",
   "pygments_lexer": "ipython3",
   "version": "3.8.10"
  }
 },
 "nbformat": 4,
 "nbformat_minor": 5
}
