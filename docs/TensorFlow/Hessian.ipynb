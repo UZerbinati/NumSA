{
 "cells": [
  {
   "cell_type": "markdown",
   "id": "267d6a15",
   "metadata": {},
   "source": [
    "## Hessian Example\n",
    "### Cubic Lost Function and Taylor Expansion\n",
    "Here it is shown how to compute the Hessian of a lost function delcared using TensorFlow.\n",
    "Let us consider the following lost function,\n",
    "$$ \\mathcal{L}(x,y) = 2x^3y^3 $$\n",
    "$$ \\nabla \\mathcal{L} (x,y) = \\begin{bmatrix}\n",
    "6x^2y^3\\\\6x^3y^2\n",
    "\\end{bmatrix}\\\\\n",
    "\\mathcal{H}(x,y) = \\begin{bmatrix}\n",
    "12 x y^3 & 18x^2y^2\\\\\n",
    "18 x^2 y^2 & 12 x^3 y\n",
    "\\end{bmatrix}$$\n",
    "now thanks to the Taylor expansion the Hessian is used to approximate the lost function.\n",
    "$$\\mathcal{L}(x^*,y^*) = \\mathcal{L}(x_0,y_0) + \\nabla \\mathcal{L}(x_0,y_0)\\cdot \\begin{bmatrix}\\Delta x\\\\\\Delta y\\end{bmatrix}+ \\begin{bmatrix}\\Delta x\\\\\\Delta y\\end{bmatrix}\\cdot\\mathcal{H}(x_0,y_0)\\begin{bmatrix}\\Delta x\\\\\\Delta y\\end{bmatrix}+\\mathcal{O}(\\max\\{\\Delta x,\\Delta y\\}^3)$$"
   ]
  },
  {
   "cell_type": "code",
   "execution_count": 1,
   "id": "7990f15f",
   "metadata": {},
   "outputs": [],
   "source": [
    "#We import all the library we are gona need\n",
    "import tensorflow as tf\n",
    "import numpy as np\n",
    "import matplotlib.pyplot as plt\n",
    "from numsa.TFHessian import *"
   ]
  },
  {
   "cell_type": "code",
   "execution_count": 2,
   "id": "b9907d96",
   "metadata": {},
   "outputs": [],
   "source": [
    "#Defining the Loss Function\n",
    "def Loss(X):\n",
    "    return 2*X[0]**3*X[1]**3;\n",
    "#Defining the Hessian class for the above loss function in x\n",
    "x0 = tf.Variable([1.0,1.0])\n",
    "H =  Hessian(Loss,x0)"
   ]
  },
  {
   "cell_type": "code",
   "execution_count": 3,
   "id": "754248a7",
   "metadata": {},
   "outputs": [
    {
     "name": "stdout",
     "output_type": "stream",
     "text": [
      "Convergence order 3.160964012145996\n"
     ]
    },
    {
     "data": {
      "image/png": "[encoded data removed]",
      "text/plain": [
       "<Figure size 432x288 with 1 Axes>"
      ]
     },
     "metadata": {
      "needs_background": "light"
     },
     "output_type": "display_data"
    }
   ],
   "source": [
    "Error = [];\n",
    "ErrorH = [];\n",
    "N = 10\n",
    "for n in range(N):\n",
    "    h = 1/(2**n);\n",
    "    ErrorH = ErrorH + [h];\n",
    "    x = tf.Variable([1.0+h,1.0+h]);\n",
    "    v = tf.Variable([h,h]);\n",
    "    Grad, Hv = H.action(v,True)\n",
    "    err = abs(Loss(x)-Loss(x0)-tf.tensordot(Grad,v,1)\n",
    "    -0.5*tf.tensordot(v,Hv,1));\n",
    "    Error = Error + [err];\n",
    "plt.loglog(ErrorH,Error,\"*-\")\n",
    "plt.loglog(ErrorH,[10*h**3 for h in ErrorH],\"--\")\n",
    "plt.legend([\"2nd Order Taylor Error\",\"3rd Order Convergence\"])\n",
    "order = (tf.math.log(Error[7])-tf.math.log(Error[9]))/(np.log(ErrorH[7])-np.log(ErrorH[9]))\n",
    "print(\"Convergence order {}\".format(order))"
   ]
  },
  {
   "cell_type": "markdown",
   "id": "c98b8bea",
   "metadata": {},
   "source": [
    "$$\\mathcal{H}(1,1) = \\begin{bmatrix}\n",
    "12 & 18\\\\\n",
    "18 & 12\n",
    "\\end{bmatrix}, \\qquad \\lambda_1 = 30 \\qquad \\lambda_2 = -6$$"
   ]
  },
  {
   "cell_type": "code",
   "execution_count": 4,
   "id": "cb23ba96",
   "metadata": {},
   "outputs": [
    {
     "data": {
      "text/plain": [
       "<tf.Tensor: shape=(), dtype=float32, numpy=30.000002>"
      ]
     },
     "execution_count": 4,
     "metadata": {},
     "output_type": "execute_result"
    }
   ],
   "source": [
    "H.eig(\"pi-max\") #Power iteration to find the maximum eigenvalue."
   ]
  },
  {
   "cell_type": "markdown",
   "id": "fdc51b73",
   "metadata": {},
   "source": [
    "### Very Small Neural Network Built With KERAS"
   ]
  },
  {
   "cell_type": "code",
   "execution_count": 5,
   "id": "ce66dd80",
   "metadata": {},
   "outputs": [],
   "source": [
    "import tensorflow as tf\n",
    "import numpy as np\n",
    "import matplotlib.pyplot as plt\n",
    "from numsa.TFHessian import *\n",
    "\n",
    "from tqdm.notebook import tqdm"
   ]
  },
  {
   "cell_type": "code",
   "execution_count": 6,
   "id": "bfa5c088",
   "metadata": {
    "scrolled": false
   },
   "outputs": [
    {
     "data": {
      "application/vnd.jupyter.widget-view+json": {
       "model_id": "715a31bfa9954ed9bd9431e63681581e",
       "version_major": 2,
       "version_minor": 0
      },
      "text/plain": [
       "  0%|          | 0/100 [00:00<?, ?it/s]"
      ]
     },
     "metadata": {},
     "output_type": "display_data"
    },
    {
     "name": "stdout",
     "output_type": "stream",
     "text": [
      "Test 0 with data [0. 0.] produce [[1.]] .\n",
      "Test 1 with data [0. 1.] produce [[1.]] .\n",
      "Test 2 with data [1. 0.] produce [[1.]] .\n",
      "Test 3 with data [1. 1.] produce [[1.]] .\n"
     ]
    }
   ],
   "source": [
    "Ord = 1;\n",
    "optimizer = tf.keras.optimizers.SGD(learning_rate=1e-3)\n",
    "init = tf.keras.initializers.RandomNormal(mean=0.0, stddev=0.05, seed=None)\n",
    "# Inputs\n",
    "training_data = np.array([[0,0],[0,1],[1,0],[1,1]], \"float32\")\n",
    "# Outputs\n",
    "\n",
    "training_label = np.array([[0],[1],[1],[0]], \"float32\")\n",
    "training_dataset = tf.data.Dataset.from_tensor_slices((training_data, training_label))\n",
    "model = tf.keras.Sequential([\n",
    "    tf.keras.layers.Dense(2,input_dim=2, activation='softmax',bias_initializer=init),#2 nodes hidden layer\n",
    "    tf.keras.layers.Dense(1)\n",
    "])\n",
    "def loss_fn(y,x):\n",
    "    return tf.math.reduce_mean(tf.math.squared_difference(y, x));\n",
    "def Loss(weights):\n",
    "    predictions = model(training_data, training=True) #Logits for this minibatch\n",
    "    # Compute the loss value for this minibatch.\n",
    "    loss_value = loss_fn(training_label, predictions);\n",
    "    return loss_value;\n",
    "for epoch in tqdm(range(100)):\n",
    "    for step, (x,y) in enumerate(training_dataset):\n",
    "        if Ord == 2:\n",
    "            # Compute Hessian and Gradients\n",
    "            H = Hessian(Loss,model.trainable_weights)\n",
    "            fullH, grad = H.mat(model.trainable_weights,\"KERAS\",grad=True);\n",
    "            #Reshaping the Hessians\n",
    "            grads = [tf.Variable(grad[0:4].reshape(2,2),dtype=np.float32),\n",
    "                     tf.Variable(grad[4:6].reshape(2,),dtype=np.float32),\n",
    "                     tf.Variable(grad[6:8].reshape(2,1),dtype=np.float32),\n",
    "                     tf.Variable(grad[8].reshape(1,),dtype=np.float32),]\n",
    "        if Ord == 1:\n",
    "            with tf.GradientTape() as tape:\n",
    "                # Run the forward pass of the layer.\n",
    "                # The operations that the layer applies\n",
    "                # to its inputs are going to be recorded\n",
    "                # on the GradientTape.\n",
    "                labels = model(training_data, training=True)  # Logits for this minibatch\n",
    "                # Compute the loss value for this minibatch.\n",
    "                loss_value = loss_fn(training_label, labels)\n",
    "                # Use the gradient tape to automatically retrieve\n",
    "                # the gradients of the trainable variables with respect to the loss.\n",
    "                grads = tape.gradient(loss_value, model.trainable_weights)\n",
    "        optimizer.apply_gradients(zip(grads, model.trainable_weights))\n",
    "for step, (x,y) in enumerate(training_dataset):\n",
    "    print(\"Test {} with data {} produce {} .\".format(step,x,tf.math.round(model(np.array([x])))))"
   ]
  },
  {
   "cell_type": "code",
   "execution_count": 7,
   "id": "534f49e3",
   "metadata": {},
   "outputs": [
    {
     "name": "stdout",
     "output_type": "stream",
     "text": [
      "Number of trainable layers 4\n",
      "Number of weights trainable per layer 0, (2, 2)\n",
      "Number of weights trainable per layer 1, (2,)\n",
      "Number of weights trainable per layer 2, (2, 1)\n",
      "Number of weights trainable per layer 3, (1,)\n"
     ]
    }
   ],
   "source": [
    "print(\"Number of trainable layers {}\".format(len(model.trainable_weights)))\n",
    "print(\"Number of weights trainable per layer 0, {}\".format(model.trainable_weights[0].shape))\n",
    "print(\"Number of weights trainable per layer 1, {}\".format(model.trainable_weights[1].shape))\n",
    "print(\"Number of weights trainable per layer 2, {}\".format(model.trainable_weights[2].shape))\n",
    "print(\"Number of weights trainable per layer 3, {}\".format(model.trainable_weights[3].shape))"
   ]
  },
  {
   "cell_type": "code",
   "execution_count": 8,
   "id": "869d7633",
   "metadata": {
    "scrolled": false
   },
   "outputs": [
    {
     "name": "stderr",
     "output_type": "stream",
     "text": [
      "\r",
      "  0%|          | 0/4 [00:00<?, ?it/s]"
     ]
    },
    {
     "name": "stdout",
     "output_type": "stream",
     "text": [
      "MPI the world is 1 process big !\n"
     ]
    },
    {
     "name": "stderr",
     "output_type": "stream",
     "text": [
      "100%|██████████| 4/4 [00:00<00:00,  7.29it/s]\n",
      "100%|██████████| 2/2 [00:00<00:00, 34.86it/s]\n",
      "100%|██████████| 2/2 [00:00<00:00, 32.23it/s]\n",
      "100%|██████████| 1/1 [00:00<00:00, 32.05it/s]\n"
     ]
    },
    {
     "name": "stdout",
     "output_type": "stream",
     "text": [
      "0.001408953219652176\n"
     ]
    },
    {
     "data": {
      "image/png": "[encoded data removed]",
      "text/plain": [
       "<Figure size 432x288 with 2 Axes>"
      ]
     },
     "metadata": {
      "needs_background": "light"
     },
     "output_type": "display_data"
    }
   ],
   "source": [
    "def Loss(weights):\n",
    "    predictions = model(training_data, training=True) #Logits for this minibatch\n",
    "    # Compute the loss value for this minibatch.\n",
    "    loss_value = loss_fn(training_label, predictions);\n",
    "    return loss_value;\n",
    "H = Hessian(Loss,model.trainable_weights)\n",
    "H.SwitchVerbose(True)\n",
    "fullH= H.mat(model.trainable_weights,\"KERAS\");\n",
    "plt.imshow((np.log10(abs(fullH)+1e-16)))\n",
    "plt.colorbar()\n",
    "print(np.min(abs(fullH)))"
   ]
  }
 ],
 "metadata": {
  "kernelspec": {
   "display_name": "Python 3",
   "language": "python",
   "name": "python3"
  },
  "language_info": {
   "codemirror_mode": {
    "name": "ipython",
    "version": 3
   },
   "file_extension": ".py",
   "mimetype": "text/x-python",
   "name": "python",
   "nbconvert_exporter": "python",
   "pygments_lexer": "ipython3",
   "version": "3.8.10"
  }
 },
 "nbformat": 4,
 "nbformat_minor": 5
}
