{
 "cells": [
  {
   "cell_type": "markdown",
   "id": "8038b38e",
   "metadata": {},
   "source": [
    "## Physically Informed Neural Network"
   ]
  },
  {
   "cell_type": "code",
   "execution_count": 1,
   "id": "ec12cc0f",
   "metadata": {
    "scrolled": false
   },
   "outputs": [],
   "source": [
    "import tensorflow as tf\n",
    "from tensorflow.keras.constraints import min_max_norm\n",
    "import logging\n",
    "tf.get_logger().setLevel(logging.ERROR)\n",
    "import numpy as np\n",
    "import matplotlib.pyplot as plt\n",
    "from numsa.TFHessian import *\n",
    "from random import *\n",
    "from tqdm.notebook import tqdm\n",
    "\n",
    "############| SETTINGS |############\n",
    "a = 0; b = 1;\n",
    "N = 50; #Nuerons in the Hidden Layer\n",
    "N_EvEl = 101; #Spacing of the evaluation function\n",
    "itmax = 10000;\n",
    "tol = 1e-4;\n",
    "gamma = tf.Variable(1e1,dtype=np.float32)\n",
    "def f(x):\n",
    "    return (np.pi**2)*np.sin(np.pi*x);\n",
    "####################################\n",
    "\n",
    "#Pnts = np.linspace(a,b,N_EvEl)\n",
    "\n",
    "Pnts = np.array([0.0])\n",
    "Pnts = np.random.uniform(a,b,N_EvEl)\n",
    "Pnts = np.append(Pnts,1.0)\n",
    "Pnts = np.sort(Pnts)\n",
    "\n",
    "u = tf.keras.Sequential([\n",
    "    tf.keras.layers.Dense(N,input_dim=1, activation='tanh'),#Hidden Layer\n",
    "    tf.keras.layers.Dense(N,activation=\"tanh\"),\n",
    "    tf.keras.layers.Dense(N,activation=\"tanh\"),\n",
    "    tf.keras.layers.Dense(1,use_bias=False)#10 leyers weights.\n",
    "])\n",
    "\n",
    "#We create an evaluation mesh\n",
    "mesh = tf.Variable([[point] for point in Pnts]);\n",
    "F = tf.cast(tf.Variable([[-f(point)] for point in Pnts]),dtype=np.float32);\n",
    "#Defining the lost function\n",
    "def LSQEnergy(weights):\n",
    "    with tf.GradientTape() as gtape2:\n",
    "        with tf.GradientTape() as gtape:\n",
    "            uh = u(mesh, training=True)\n",
    "        du_dx = gtape.gradient(uh, [mesh])\n",
    "    #We use TF Gradient Tape to compute grad uh\n",
    "    d2u_dx2 = gtape2.gradient(du_dx,[mesh])\n",
    "    Energy = (1/N_EvEl)*tf.reduce_sum(tf.square(d2u_dx2-F));\n",
    "    #Adding B.C using penalty method idea;\n",
    "    Energy = Energy + gamma*(tf.abs(u(mesh)[0][0])+tf.abs(u(mesh)[0][-1]))\n",
    "    return Energy;"
   ]
  },
  {
   "cell_type": "code",
   "execution_count": 2,
   "id": "68ba0e84",
   "metadata": {
    "scrolled": false
   },
   "outputs": [
    {
     "name": "stdout",
     "output_type": "stream",
     "text": [
      "(102, 1)\n",
      "tf.Tensor(44.500187, shape=(), dtype=float32)\n"
     ]
    }
   ],
   "source": [
    "print(u(mesh).shape)\n",
    "print(LSQEnergy(u.trainable_weights))"
   ]
  },
  {
   "cell_type": "code",
   "execution_count": 3,
   "id": "a4ae576d",
   "metadata": {
    "scrolled": false
   },
   "outputs": [
    {
     "data": {
      "application/vnd.jupyter.widget-view+json": {
       "model_id": "bbcc538ce2e146858bd6ef65e0341028",
       "version_major": 2,
       "version_minor": 0
      },
      "text/plain": [
       "  0%|          | 0/10000 [00:00<?, ?it/s]"
      ]
     },
     "metadata": {},
     "output_type": "display_data"
    },
    {
     "name": "stdout",
     "output_type": "stream",
     "text": [
      "[It. 0] Loss function value 44.500186920166016 and residual 114.15145111083984.\n",
      "[It. 1000] Loss function value 0.14932215213775635 and residual 85.06873321533203.\n",
      "[It. 2000] Loss function value 0.747861921787262 and residual 74.80812072753906.\n",
      "[It. 3000] Loss function value 0.6518247723579407 and residual 78.17658996582031.\n",
      "[It. 4000] Loss function value 0.39561185240745544 and residual 69.97735595703125.\n",
      "[It. 5000] Loss function value 0.2685604691505432 and residual 80.0799331665039.\n",
      "[It. 6000] Loss function value 0.44717398285865784 and residual 81.0343017578125.\n",
      "[It. 7000] Loss function value 0.2159377634525299 and residual 71.62036895751953.\n",
      "[It. 8000] Loss function value 0.08249646425247192 and residual 77.45816802978516.\n",
      "[It. 9000] Loss function value 0.15538577735424042 and residual 74.95482635498047.\n",
      "Loss function value 0.6700527667999268 and residual 85.69718933105469.\n"
     ]
    }
   ],
   "source": [
    "optimizer = tf.keras.optimizers.Adam(learning_rate=0.02)\n",
    "\n",
    "# Iterate over the batches of a dataset.\n",
    "for it in tqdm(range(itmax)):\n",
    "    # Open a GradientTape.\n",
    "    with tf.GradientTape() as tape:\n",
    "        Loss = LSQEnergy(u.trainable_weights)\n",
    "    # Get gradients of loss wrt the weights.\n",
    "    gradients = tape.gradient(Loss, u.trainable_weights)\n",
    "    res = sum([tf.norm(grad) for grad in gradients]);\n",
    "    # Update the weights of the model.\n",
    "    optimizer.apply_gradients(zip(gradients, u.trainable_weights))\n",
    "    if res <= tol:\n",
    "        break;\n",
    "    if it%(itmax/10) == 0:\n",
    "        print(\"[It. {}] Loss function value {} and residual {}.\".format(it,Loss,res))\n",
    "print(\"Loss function value {} and residual {}.\".format(Loss,res))"
   ]
  },
  {
   "cell_type": "code",
   "execution_count": 5,
   "id": "af226333",
   "metadata": {},
   "outputs": [
    {
     "data": {
      "text/plain": [
       "[<matplotlib.lines.Line2D at 0x7f64e8067250>]"
      ]
     },
     "execution_count": 5,
     "metadata": {},
     "output_type": "execute_result"
    },
    {
     "data": {
      "image/png": "[encoded data removed]",
      "text/plain": [
       "<Figure size 432x288 with 1 Axes>"
      ]
     },
     "metadata": {
      "needs_background": "light"
     },
     "output_type": "display_data"
    }
   ],
   "source": [
    "plt.plot(mesh.numpy(),u(mesh).numpy())\n",
    "plt.plot(mesh.numpy(),np.sin(np.pi*mesh.numpy()))"
   ]
  }
 ],
 "metadata": {
  "kernelspec": {
   "display_name": "Python 3",
   "language": "python",
   "name": "python3"
  },
  "language_info": {
   "codemirror_mode": {
    "name": "ipython",
    "version": 3
   },
   "file_extension": ".py",
   "mimetype": "text/x-python",
   "name": "python",
   "nbconvert_exporter": "python",
   "pygments_lexer": "ipython3",
   "version": "3.8.10"
  }
 },
 "nbformat": 4,
 "nbformat_minor": 5
}
