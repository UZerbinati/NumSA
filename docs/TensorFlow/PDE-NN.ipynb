{
 "cells": [
  {
   "cell_type": "markdown",
   "id": "8038b38e",
   "metadata": {},
   "source": [
    "## Physically Informed Neural Network\n",
    "Here is show how to implement some of the ideas that are presented in [3]."
   ]
  },
  {
   "cell_type": "markdown",
   "id": "4a8d1c4a",
   "metadata": {},
   "source": [
    "### Example - 1D Poisson (DNN3 $\\sigma = \\tanh$)"
   ]
  },
  {
   "cell_type": "code",
   "execution_count": 90,
   "id": "ec12cc0f",
   "metadata": {
    "scrolled": false
   },
   "outputs": [],
   "source": [
    "import tensorflow as tf\n",
    "from tensorflow.keras.constraints import min_max_norm\n",
    "import logging\n",
    "tf.get_logger().setLevel(logging.ERROR)\n",
    "import numpy as np\n",
    "import matplotlib.pyplot as plt\n",
    "from numsa.TFHessian import *\n",
    "from random import *\n",
    "from tqdm.notebook import tqdm\n",
    "\n",
    "\n",
    "tf.random.set_seed(7)\n",
    "############| SETTINGS |############\n",
    "a = -1; b = 1;\n",
    "N = 50; #Nuerons in the Hidden Layer\n",
    "N_EvEl = 101; #Spacing of the evaluation function\n",
    "itmax = 10000;\n",
    "step = 1e-3;\n",
    "tol=1e-32\n",
    "gamma = tf.Variable(1e0,dtype=np.float32)\n",
    "def f(x):\n",
    "    return (np.pi**2)*np.sin(np.pi*x);\n",
    "####################################\n",
    "\n",
    "#Pnts = np.linspace(a,b,N_EvEl)\n",
    "\n",
    "\n",
    "Pnts = np.array([0.0])\n",
    "Pnts = np.append(Pnts,np.random.uniform(a,b,N_EvEl))\n",
    "Pnts = np.append(Pnts,1.0)\n",
    "#Pnts = np.random.uniform(a,b,N_EvEl)\n",
    "\n",
    "Pnts = np.sort(Pnts)\n",
    "\n",
    "u = tf.keras.Sequential([\n",
    "    tf.keras.layers.Dense(N,input_dim=1, activation='tanh'),#Hidden Layer\n",
    "    tf.keras.layers.Dense(N,activation=\"tanh\"),\n",
    "    tf.keras.layers.Dense(N,activation=\"tanh\"),\n",
    "    tf.keras.layers.Dense(1,use_bias=False)#10 leyers weights.\n",
    "])\n",
    "\n",
    "#We create an evaluation mesh\n",
    "mesh = tf.Variable([[point] for point in Pnts]);\n",
    "F = tf.cast(tf.Variable([[-f(point)] for point in Pnts]),dtype=np.float32);\n",
    "#Defining the lost function\n",
    "def ColEnergy(weights):\n",
    "    with tf.GradientTape() as gtape2:\n",
    "        with tf.GradientTape() as gtape:\n",
    "            uh = u(mesh, training=True)\n",
    "        du_dx = gtape.gradient(uh, [mesh])\n",
    "    #We use TF Gradient Tape to compute grad uh\n",
    "    d2u_dx2 = gtape2.gradient(du_dx,[mesh])\n",
    "    Delta = (d2u_dx2-F)\n",
    "    Energy = (1/N_EvEl)*tf.reduce_sum(tf.square(Delta));\n",
    "    #Adding B.C using penalty method idea;\n",
    "    Energy = Energy + (gamma/N_EvEl)*(tf.square(u(tf.Variable([[a]])))+tf.square(u(tf.Variable([[b]]))))\n",
    "    return Energy;"
   ]
  },
  {
   "cell_type": "code",
   "execution_count": 91,
   "id": "769f2ea1",
   "metadata": {
    "scrolled": false
   },
   "outputs": [
    {
     "name": "stdout",
     "output_type": "stream",
     "text": [
      "(103, 1)\n",
      "tf.Tensor([[40.050835]], shape=(1, 1), dtype=float32)\n"
     ]
    }
   ],
   "source": [
    "print(u(mesh).shape)\n",
    "print(ColEnergy(u.trainable_weights))"
   ]
  },
  {
   "cell_type": "code",
   "execution_count": 92,
   "id": "a3408b3f",
   "metadata": {
    "scrolled": false
   },
   "outputs": [
    {
     "data": {
      "application/vnd.jupyter.widget-view+json": {
       "model_id": "e7444739f32b4fe4982013c629623896",
       "version_major": 2,
       "version_minor": 0
      },
      "text/plain": [
       "  0%|          | 0/10000 [00:00<?, ?it/s]"
      ]
     },
     "metadata": {},
     "output_type": "display_data"
    },
    {
     "name": "stdout",
     "output_type": "stream",
     "text": [
      "[It. 0] Loss function value [[40.050835]] and residual 29.165576934814453.\n",
      "[It. 1000] Loss function value [[0.00762097]] and residual 0.15168429911136627.\n",
      "[It. 2000] Loss function value [[1.4110279e-05]] and residual 0.11412914842367172.\n",
      "[It. 3000] Loss function value [[5.9321637e-06]] and residual 0.16223815083503723.\n",
      "[It. 4000] Loss function value [[3.0792385e-06]] and residual 0.0004416355805005878.\n",
      "[It. 5000] Loss function value [[2.884495e-06]] and residual 0.0009915133705362678.\n",
      "[It. 6000] Loss function value [[2.7776434e-06]] and residual 0.008474547415971756.\n",
      "[It. 7000] Loss function value [[3.0952278e-06]] and residual 0.05875520408153534.\n",
      "[It. 8000] Loss function value [[1.87274e-05]] and residual 0.35876917839050293.\n",
      "[It. 9000] Loss function value [[2.5348052e-06]] and residual 0.003511270973831415.\n",
      "Loss function value [[0.00036402]] and residual 2.1709649562835693.\n",
      "Loss function value [[0.00036402]] and residual 2.1709649562835693.\n"
     ]
    }
   ],
   "source": [
    "optimizer = tf.keras.optimizers.Adamax(learning_rate=step)\n",
    "\n",
    "# Iterate over the batches of a dataset.\n",
    "for it in tqdm(range(itmax)):\n",
    "    # Open a GradientTape.\n",
    "    with tf.GradientTape() as tape:\n",
    "        Loss = ColEnergy(u.trainable_weights)\n",
    "    # Get gradients of loss wrt the weights.\n",
    "    gradients = tape.gradient(Loss, u.trainable_weights)\n",
    "    res = sum([tf.norm(grad) for grad in gradients]);\n",
    "    # Update the weights of the model.\n",
    "    optimizer.apply_gradients(zip(gradients, u.trainable_weights))\n",
    "    if res <= tol:\n",
    "        break;\n",
    "    if it%(itmax/10) == 0:\n",
    "        print(\"[It. {}] Loss function value {} and residual {}.\".format(it,Loss,res))\n",
    "    \n",
    "print(\"Loss function value {} and residual {}.\".format(Loss,res))   "
   ]
  },
  {
   "cell_type": "code",
   "execution_count": 93,
   "id": "e76d4772",
   "metadata": {},
   "outputs": [
    {
     "data": {
      "text/plain": [
       "[<matplotlib.lines.Line2D at 0x7fe6286fbb50>]"
      ]
     },
     "execution_count": 93,
     "metadata": {},
     "output_type": "execute_result"
    },
    {
     "data": {
      "image/png": "[encoded data removed]",
      "text/plain": [
       "<Figure size 432x288 with 1 Axes>"
      ]
     },
     "metadata": {
      "needs_background": "light"
     },
     "output_type": "display_data"
    }
   ],
   "source": [
    "plt.plot(mesh.numpy(),u(mesh).numpy(),\"r*\")\n",
    "plt.plot(mesh.numpy(),np.sin(np.pi*mesh.numpy()),\"b-\")"
   ]
  },
  {
   "cell_type": "markdown",
   "id": "f2127500",
   "metadata": {},
   "source": [
    "### Example - 1D Poisson (DNN1 $\\sigma = \\tanh$)"
   ]
  },
  {
   "cell_type": "code",
   "execution_count": 88,
   "id": "f7122df7",
   "metadata": {},
   "outputs": [
    {
     "data": {
      "application/vnd.jupyter.widget-view+json": {
       "model_id": "84e734f6f12f4551a7ca0a8a9ca8f593",
       "version_major": 2,
       "version_minor": 0
      },
      "text/plain": [
       "  0%|          | 0/10000 [00:00<?, ?it/s]"
      ]
     },
     "metadata": {},
     "output_type": "display_data"
    },
    {
     "name": "stdout",
     "output_type": "stream",
     "text": [
      "[It. 0] Loss function value [[48.18584]] and residual 30.221145629882812.\n",
      "[It. 1000] Loss function value [[0.01133342]] and residual 0.19328689575195312.\n",
      "[It. 2000] Loss function value [[4.395029e-05]] and residual 0.014139320701360703.\n",
      "[It. 3000] Loss function value [[1.2044951e-05]] and residual 0.001124825794249773.\n",
      "[It. 4000] Loss function value [[1.18992175e-05]] and residual 0.11031036078929901.\n",
      "[It. 5000] Loss function value [[3.745318e-05]] and residual 0.5156951546669006.\n",
      "[It. 6000] Loss function value [[9.023554e-06]] and residual 0.0063739619217813015.\n",
      "[It. 7000] Loss function value [[3.2782067e-05]] and residual 0.4635803699493408.\n",
      "[It. 8000] Loss function value [[7.764058e-06]] and residual 0.018926803022623062.\n",
      "[It. 9000] Loss function value [[0.00052961]] and residual 2.18993878364563.\n",
      "Loss function value [[1.1800093e-05]] and residual 0.23362360894680023.\n"
     ]
    }
   ],
   "source": [
    "import tensorflow as tf\n",
    "from tensorflow.keras.constraints import min_max_norm\n",
    "import logging\n",
    "tf.get_logger().setLevel(logging.ERROR)\n",
    "import numpy as np\n",
    "import matplotlib.pyplot as plt\n",
    "from numsa.TFHessian import *\n",
    "from random import *\n",
    "from tqdm.notebook import tqdm\n",
    "\n",
    "\n",
    "tf.random.set_seed(7)\n",
    "############| SETTINGS |############\n",
    "a = -1; b = 1;\n",
    "N = 50; #Nuerons in the Hidden Layer\n",
    "N_EvEl = 101; #Spacing of the evaluation function\n",
    "itmax = 10000;\n",
    "step = 1e-3;\n",
    "tol=1e-32\n",
    "gamma = tf.Variable(1e0,dtype=np.float32)\n",
    "def f(x):\n",
    "    return (np.pi**2)*np.sin(np.pi*x);\n",
    "####################################\n",
    "\n",
    "#Pnts = np.linspace(a,b,N_EvEl)\n",
    "\n",
    "\n",
    "Pnts = np.array([0.0])\n",
    "Pnts = np.append(Pnts,np.random.uniform(a,b,N_EvEl))\n",
    "Pnts = np.append(Pnts,1.0)\n",
    "#Pnts = np.random.uniform(a,b,N_EvEl)\n",
    "\n",
    "Pnts = np.sort(Pnts)\n",
    "\n",
    "u = tf.keras.Sequential([\n",
    "    tf.keras.layers.Dense(N,input_dim=1, activation='tanh'),#Hidden Layer\n",
    "    tf.keras.layers.Dense(N,activation=\"tanh\"),\n",
    "    tf.keras.layers.Dense(N,activation=\"tanh\"),\n",
    "    tf.keras.layers.Dense(1,use_bias=False)\n",
    "])\n",
    "\n",
    "#We create an evaluation mesh\n",
    "mesh = tf.Variable([[point] for point in Pnts]);\n",
    "F = tf.cast(tf.Variable([[-f(point)] for point in Pnts]),dtype=np.float32);\n",
    "#Defining the lost function\n",
    "def ColEnergy(weights):\n",
    "    with tf.GradientTape() as gtape2:\n",
    "        with tf.GradientTape() as gtape:\n",
    "            uh = u(mesh, training=True)\n",
    "        du_dx = gtape.gradient(uh, [mesh])\n",
    "    #We use TF Gradient Tape to compute grad uh\n",
    "    d2u_dx2 = gtape2.gradient(du_dx,[mesh])\n",
    "    Delta = (d2u_dx2-F)\n",
    "    Energy = (1/N_EvEl)*tf.reduce_sum(tf.square(Delta));\n",
    "    #Adding B.C using penalty method idea;\n",
    "    Energy = Energy + (gamma/N_EvEl)*(tf.square(u(tf.Variable([[a]])))+tf.square(u(tf.Variable([[b]]))))\n",
    "    return Energy;\n",
    "optimizer = tf.keras.optimizers.Adamax(learning_rate=step)\n",
    "\n",
    "# Iterate over the batches of a dataset.\n",
    "for it in tqdm(range(itmax)):\n",
    "    # Open a GradientTape.\n",
    "    with tf.GradientTape() as tape:\n",
    "        Loss = ColEnergy(u.trainable_weights)\n",
    "    # Get gradients of loss wrt the weights.\n",
    "    gradients = tape.gradient(Loss, u.trainable_weights)\n",
    "    res = sum([tf.norm(grad) for grad in gradients]);\n",
    "    # Update the weights of the model.\n",
    "    optimizer.apply_gradients(zip(gradients, u.trainable_weights))\n",
    "    if res <= tol:\n",
    "        break;\n",
    "    if it%(itmax/10) == 0:\n",
    "        print(\"[It. {}] Loss function value {} and residual {}.\".format(it,Loss,res))\n",
    "    \n",
    "print(\"Loss function value {} and residual {}.\".format(Loss,res)) "
   ]
  },
  {
   "cell_type": "code",
   "execution_count": 89,
   "id": "6a4964d1",
   "metadata": {},
   "outputs": [
    {
     "data": {
      "text/plain": [
       "[<matplotlib.lines.Line2D at 0x7fe6703784f0>]"
      ]
     },
     "execution_count": 89,
     "metadata": {},
     "output_type": "execute_result"
    },
    {
     "data": {
      "image/png": "[encoded data removed]",
      "text/plain": [
       "<Figure size 432x288 with 1 Axes>"
      ]
     },
     "metadata": {
      "needs_background": "light"
     },
     "output_type": "display_data"
    }
   ],
   "source": [
    "plt.plot(mesh.numpy(),u(mesh).numpy(),\"r*\")\n",
    "plt.plot(mesh.numpy(),np.sin(np.pi*mesh.numpy()),\"b-\")"
   ]
  },
  {
   "cell_type": "markdown",
   "id": "c4d62634",
   "metadata": {},
   "source": [
    "## Deep Ritz Method\n",
    "Here is show how to implement some of the ideas that are presented in [4]."
   ]
  },
  {
   "cell_type": "code",
   "execution_count": 194,
   "id": "facb0790",
   "metadata": {
    "scrolled": false
   },
   "outputs": [
    {
     "data": {
      "image/png": "[encoded data removed]",
      "text/plain": [
       "<Figure size 432x288 with 1 Axes>"
      ]
     },
     "metadata": {},
     "output_type": "display_data"
    },
    {
     "name": "stdout",
     "output_type": "stream",
     "text": [
      "Loss function value [[-4.080785]] and residual 10.798479080200195.\n"
     ]
    },
    {
     "data": {
      "image/png": "[encoded data removed]",
      "text/plain": [
       "<Figure size 432x288 with 1 Axes>"
      ]
     },
     "metadata": {
      "needs_background": "light"
     },
     "output_type": "display_data"
    }
   ],
   "source": [
    "import tensorflow as tf\n",
    "from tensorflow.keras.constraints import min_max_norm,max_norm\n",
    "import logging\n",
    "tf.get_logger().setLevel(logging.ERROR)\n",
    "import numpy as np\n",
    "import matplotlib.pyplot as plt\n",
    "from numsa.TFHessian import *\n",
    "from random import *\n",
    "from tqdm.notebook import tqdm\n",
    "from IPython import display\n",
    "\n",
    "tf.random.set_seed(7)\n",
    "############| SETTINGS |############\n",
    "a = -1; b = 1;\n",
    "N = 20; #Nuerons in the Hidden Layer\n",
    "N_EvEl = 129 #Spacing of the evaluation function\n",
    "optit = 10000;\n",
    "step = 5e-2;\n",
    "decayrate=0#1e-8;\n",
    "tol=1e-4\n",
    "lam = 1e-1\n",
    "gamma = tf.Variable(1e4,dtype=np.float32)\n",
    "def f(x):\n",
    "    return (np.pi**2)*np.sin(np.pi*x);\n",
    "####################################\n",
    "\n",
    "Pnts = np.linspace(a,b,N_EvEl)\n",
    "Pnts = np.sort(Pnts)\n",
    "\n",
    "u = tf.keras.Sequential([\n",
    "    tf.keras.layers.Dense(N,input_dim=1, activation='relu'),\n",
    "    tf.keras.layers.Dense(1,use_bias=False)\n",
    "])\n",
    "\n",
    "#We create an evaluation mesh\n",
    "mesh = tf.Variable([[point] for point in Pnts])\n",
    "F = tf.cast(tf.Variable([[f(point)] for point in Pnts]),dtype=np.float32);\n",
    "#Defining the lost function\n",
    "def integral(y, x):\n",
    "    y = tf.cast(y,dtype=np.float32);\n",
    "    x = tf.cast(x,dtype=np.float32);\n",
    "    Nsamps = int(x.shape[0])\n",
    "    Ninterv = Nsamps-1\n",
    "    n = 1\n",
    "    k = 0\n",
    "    while n < Ninterv:\n",
    "        n <<= 1\n",
    "        k += 1\n",
    "    if n != Ninterv:\n",
    "        raise ValueError(\"Number of samples must be one plus a non-negative power of 2.\")\n",
    "    R = {}\n",
    "    h = x[-1] - x[0]\n",
    "    R[(0, 0)] = (y[0] + y[-1])/2*h\n",
    "    start = stop = step = Ninterv\n",
    "    for i in range(1, k+1):\n",
    "        start >>= 1\n",
    "        R[(i, 0)] = 0.5*(R[(i-1, 0)] + h*tf.reduce_sum(y[start:stop:step]))\n",
    "        step >>= 1\n",
    "        for j in range(1, i+1):\n",
    "            prev = R[(i, j-1)]\n",
    "            R[(i, j)] = prev + (prev-R[(i-1, j-1)]) / ((1 << (2*j))-1)\n",
    "        h /= 2.0\n",
    "    return R[(k, k)]\n",
    "def DirichletEnergy(weights):\n",
    "    with tf.GradientTape() as gtape2:\n",
    "        with tf.GradientTape() as gtape:\n",
    "            uh = u(mesh, training=True)\n",
    "        du_dx = tf.cast(gtape.gradient(uh, [mesh]), dtype=np.float32)\n",
    "    #We use TF Gradient Tape to compute grad uh\n",
    "    d2u_dx2 = tf.cast(gtape2.gradient(du_dx,[mesh]),dtype=np.float32)\n",
    "    Delta = 0.5*du_dx[0]*du_dx[0]-F*uh\n",
    "    Energy = integral(Delta,mesh);\n",
    "    #Adding B.C using penalty method idea;\n",
    "    Energy = Energy + (gamma/(N_EvEl-1))*(u(tf.Variable([[a]]))*u(tf.Variable([[a]]))+u(tf.Variable([[b]]))*u(tf.Variable([[b]])))\n",
    "    return Energy;\n",
    "optimizer = tf.keras.optimizers.Adam(learning_rate=step,decay=decayrate)\n",
    "for i in range(optit):\n",
    "    # Open a GradientTape.\n",
    "    with tf.GradientTape() as tape:\n",
    "        Loss = DirichletEnergy(u.trainable_weights)\n",
    "    # Get gradients of loss wrt the weights.\n",
    "    gradients = tape.gradient(Loss, u.trainable_weights)\n",
    "    res = sum([tf.norm(grad) for grad in gradients]);\n",
    "    # Update the weights of the model.\n",
    "    optimizer.apply_gradients(zip(gradients, u.trainable_weights))\n",
    "    if res <= tol:\n",
    "        break;\n",
    "    if (i%100)==0:\n",
    "        print(\"[It. {}] Loss function value {} and residual {}.\".format(i,Loss,res))\n",
    "        \n",
    "        plt.clf()\n",
    "        plt.title(\"It. {}\".format(i))\n",
    "        plt.plot(mesh.numpy(),u(mesh).numpy(),\"r*\")\n",
    "        plt.plot(mesh.numpy(),np.sin(np.pi*mesh.numpy()),\"b-\")\n",
    "        display.clear_output()\n",
    "        display.display(plt.gcf())\n",
    "        \n",
    "\n",
    "print(\"Loss function value {} and residual {}.\".format(Loss,res))"
   ]
  },
  {
   "cell_type": "markdown",
   "id": "7af7662e",
   "metadata": {},
   "source": [
    "An other option is to split the minimization process in two different part, one is the mesh optimization the other is the energy minimization."
   ]
  },
  {
   "cell_type": "code",
   "execution_count": 178,
   "id": "3cb70284",
   "metadata": {},
   "outputs": [],
   "source": [
    "import tensorflow as tf\n",
    "from tensorflow.keras.constraints import min_max_norm,max_norm\n",
    "import logging\n",
    "tf.get_logger().setLevel(logging.ERROR)\n",
    "import numpy as np\n",
    "import matplotlib.pyplot as plt\n",
    "from numsa.TFHessian import *\n",
    "from random import *\n",
    "from tqdm.notebook import tqdm\n",
    "from IPython import display\n",
    "\n",
    "tf.random.set_seed(7)\n",
    "############| SETTINGS |############\n",
    "a = -1; b = 1;\n",
    "N = 20; #Nuerons in the Hidden Layer\n",
    "N_EvEl = 101 #Spacing of the evaluation function\n",
    "itmax = 15;\n",
    "optit = 1000;\n",
    "meshit = 1;\n",
    "step = 5e-2;\n",
    "decayrate=0;\n",
    "tol=1e-4\n",
    "lam = 1e-1\n",
    "gamma = tf.Variable(1e4,dtype=np.float32)\n",
    "def f(x):\n",
    "    return (np.pi**2)*np.sin(np.pi*x);\n",
    "####################################\n",
    "\n",
    "Pnts = np.linspace(a,b,N_EvEl)\n",
    "Pnts = np.sort(Pnts)\n",
    "\n",
    "u = tf.keras.Sequential([\n",
    "    tf.keras.layers.Dense(N,input_dim=1, activation='relu'),\n",
    "    tf.keras.layers.Dense(1,use_bias=False)\n",
    "])\n",
    "\n",
    "#We create an evaluation mesh\n",
    "mesh = tf.Variable([[point] for point in Pnts]);\n",
    "F = tf.cast(tf.Variable([[f(point)] for point in Pnts]),dtype=np.float32);\n",
    "#Defining the lost function\n",
    "def DirichletEnergy(weights):\n",
    "    with tf.GradientTape() as gtape2:\n",
    "        with tf.GradientTape() as gtape:\n",
    "            uh = u(mesh, training=True)\n",
    "        du_dx = tf.cast(gtape.gradient(uh, [mesh]), dtype=np.float32)\n",
    "    #We use TF Gradient Tape to compute grad uh\n",
    "    d2u_dx2 = tf.cast(gtape2.gradient(du_dx,[mesh]),dtype=np.float32)\n",
    "    Delta = 0.5*du_dx[0]*du_dx[0]-F*uh;\n",
    "    Energy = tf.cast((1/(N_EvEl-1))*tf.reduce_sum(Delta),dtype=np.float32);\n",
    "    #Adding B.C using penalty method idea;\n",
    "    Energy = Energy + (gamma/(N_EvEl-1))*(u(tf.Variable([[a]]))*u(tf.Variable([[a]]))+u(tf.Variable([[b]]))*u(tf.Variable([[b]])))\n",
    "    return Energy;"
   ]
  },
  {
   "cell_type": "code",
   "execution_count": 179,
   "id": "7dbf3d09",
   "metadata": {
    "scrolled": false
   },
   "outputs": [
    {
     "data": {
      "image/png": "[encoded data removed]",
      "text/plain": [
       "<Figure size 432x288 with 1 Axes>"
      ]
     },
     "metadata": {},
     "output_type": "display_data"
    },
    {
     "name": "stdout",
     "output_type": "stream",
     "text": [
      "Loss function value [[-2.3267813]] and residual 0.014013195410370827.\n"
     ]
    },
    {
     "data": {
      "image/png": "[encoded data removed]",
      "text/plain": [
       "<Figure size 432x288 with 1 Axes>"
      ]
     },
     "metadata": {
      "needs_background": "light"
     },
     "output_type": "display_data"
    }
   ],
   "source": [
    "meshoptimizer = tf.keras.optimizers.Adam(learning_rate=step)\n",
    "optimizer = tf.keras.optimizers.Adam(learning_rate=step,decay=decayrate)\n",
    "for k in tqdm(range(itmax)):\n",
    "    \n",
    "    u.layers[0].trainable = True;\n",
    "    u.layers[1].trainable = False;\n",
    "    \n",
    "    for j in range(meshit):\n",
    "        with tf.GradientTape() as tape:\n",
    "            Loss = DirichletEnergy(u.trainable_weights)\n",
    "        # Get gradients of loss wrt the weights.\n",
    "        gradients = tape.gradient(Loss, u.trainable_weights)\n",
    "        # Update the weights of the model.\n",
    "        meshoptimizer.apply_gradients(zip(gradients, u.trainable_weights))\n",
    "\n",
    "    u.layers[0].trainable = False;\n",
    "    u.layers[1].trainable = True;\n",
    "    \n",
    "    for i in range(optit):\n",
    "        # Open a GradientTape.\n",
    "        with tf.GradientTape() as tape:\n",
    "            Loss = DirichletEnergy(u.trainable_weights)\n",
    "        # Get gradients of loss wrt the weights.\n",
    "        gradients = tape.gradient(Loss, u.trainable_weights)\n",
    "        res = sum([tf.norm(grad) for grad in gradients]);\n",
    "        # Update the weights of the model.\n",
    "        optimizer.apply_gradients(zip(gradients, u.trainable_weights))\n",
    "        if res <= tol:\n",
    "            break;\n",
    "    if (k%1)==0:\n",
    "        print(\"[It. {}] Loss function value {} and residual {}.\".format(k,Loss,res))\n",
    "        plt.clf()\n",
    "        plt.title(\"It. {}\".format(k))\n",
    "        plt.plot(mesh.numpy(),u(mesh).numpy(),\"r*\")\n",
    "        plt.plot(mesh.numpy(),np.sin(np.pi*mesh.numpy()),\"b-\")\n",
    "        display.clear_output()\n",
    "        display.display(plt.gcf())\n",
    "\n",
    "print(\"Loss function value {} and residual {}.\".format(Loss,res))"
   ]
  },
  {
   "cell_type": "code",
   "execution_count": 142,
   "id": "d8ffc01d",
   "metadata": {},
   "outputs": [
    {
     "name": "stdout",
     "output_type": "stream",
     "text": [
      "[-0.8615582  -0.5952093  -0.5610653  -0.54104936 -0.5303225  -0.5241078\n",
      " -0.48691142 -0.47965163 -0.4577423  -0.44647846 -0.4116421   0.51156074\n",
      "  0.51954836  0.5911954   0.7508275   0.7552834   0.9539397   1.069409\n",
      "  1.2431484   1.2926307 ]\n"
     ]
    }
   ],
   "source": [
    "u.layers[0].trainable = True\n",
    "u.layers[1].trainable = True\n",
    "print(np.sort(u.trainable_weights[1]))"
   ]
  }
 ],
 "metadata": {
  "kernelspec": {
   "display_name": "Python 3",
   "language": "python",
   "name": "python3"
  },
  "language_info": {
   "codemirror_mode": {
    "name": "ipython",
    "version": 3
   },
   "file_extension": ".py",
   "mimetype": "text/x-python",
   "name": "python",
   "nbconvert_exporter": "python",
   "pygments_lexer": "ipython3",
   "version": "3.8.10"
  }
 },
 "nbformat": 4,
 "nbformat_minor": 5
}
