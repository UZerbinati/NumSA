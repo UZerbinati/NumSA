{
 "cells": [
  {
   "cell_type": "markdown",
   "id": "9fbe0095",
   "metadata": {},
   "source": [
    "## Newton Method"
   ]
  },
  {
   "cell_type": "markdown",
   "id": "c413bc68",
   "metadata": {},
   "source": [
    "### Quadratic Energy Minimization\n",
    "We are minimizing the following energy functional, using a Netwon method based on the TF Hessian library.\n",
    "$$J(x,y) = x^2y^2+xy$$"
   ]
  },
  {
   "cell_type": "markdown",
   "id": "48bbcb1a",
   "metadata": {},
   "source": [
    "which is the unique stationary point of $\\nabla J$ given the fact that $J(x,y)$ is convex."
   ]
  },
  {
   "cell_type": "code",
   "execution_count": 1,
   "id": "3a1dff20",
   "metadata": {},
   "outputs": [],
   "source": [
    "#We import all the library we are gona need\n",
    "import tensorflow as tf\n",
    "import numpy as np\n",
    "import pandas as pd\n",
    "%matplotlib inline\n",
    "import matplotlib.pyplot as plt\n",
    "from numsa.TFHessian import *"
   ]
  },
  {
   "cell_type": "code",
   "execution_count": 2,
   "id": "032b70dd",
   "metadata": {},
   "outputs": [
    {
     "name": "stdout",
     "output_type": "stream",
     "text": [
      "Lost funciton at this iteration [0.0101], gradient norm 0.1442497819662094 and is achived at point <tf.Variable 'Variable:0' shape=(2, 1) dtype=float32, numpy=\n",
      "array([[0.1],\n",
      "       [0.1]], dtype=float32)>\n",
      "Computed the  first gradient ...\n"
     ]
    },
    {
     "name": "stderr",
     "output_type": "stream",
     "text": [
      " 10%|█         | 1/10 [00:00<00:01,  8.99it/s]"
     ]
    },
    {
     "name": "stdout",
     "output_type": "stream",
     "text": [
      "Computed search search diratcion ...\n",
      "Entering the Netwton optimization loop\n",
      "Lost funciton at this iteration [1.4239697e-05]  and gradient norm 0.1442497819662094\n"
     ]
    },
    {
     "name": "stderr",
     "output_type": "stream",
     "text": [
      "100%|██████████| 10/10 [00:01<00:00,  9.40it/s]\n"
     ]
    }
   ],
   "source": [
    "itmax = 10; # Number of epoch.\n",
    "tol = 1e-8\n",
    "step_size = 1; #Learning rate\n",
    "def Loss(x):\n",
    "    return (x[0]**2)*(x[1]**2)+x[0]*x[1];\n",
    "#Defining the Hessian class for the above loss function in x0\n",
    "x = tf.Variable(0.1*np.ones((2,1),dtype=np.float32))\n",
    "H =  Hessian(Loss,x)\n",
    "grad = H.grad().numpy();\n",
    "print(\"Lost funciton at this iteration {}, gradient norm {} and is achived at point {}\"\n",
    "      .format(Loss(x),np.linalg.norm(grad),x));\n",
    "print(\"Computed the  first gradient ...\")\n",
    "q = H.pCG(grad,1,1,tol=tol,itmax=100);\n",
    "print(\"Computed search search diratcion ...\")\n",
    "print(\"Entering the Netwton optimization loop\")\n",
    "for it in tqdm(range(itmax)):\n",
    "    x = x - tf.constant(step_size,dtype=np.float32)*tf.Variable(q,dtype=np.float32);\n",
    "    x =  tf.Variable(x)\n",
    "    if it%50 == 0:\n",
    "        print(\"Lost funciton at this iteration {}  and gradient norm {}\".format(Loss(x),np.linalg.norm(grad)));\n",
    "    if np.linalg.norm(grad)<tol:\n",
    "        print(\"Lost funciton at this iteration {}, gradient norm {} and is achived at point {}\"\n",
    "      .format(Loss(x),np.linalg.norm(grad),x));\n",
    "        break\n",
    "    H =  Hessian(Loss,x)\n",
    "    grad = H.grad().numpy();\n",
    "    q = H.pCG(grad,1,1,tol=tol,itmax=100);"
   ]
  },
  {
   "cell_type": "markdown",
   "id": "e0a9db1d",
   "metadata": {},
   "source": [
    "### Regression\n",
    "Our objective is to minimize the function:\n",
    "\\begin{equation}\n",
    "    f(\\vec{x}) = \\frac{1}{m} \\sum_{i=1}^m \\log\\Bigg(1+\\exp\\Big(-b_j \\vec{a_j}^T\\vec{x}\\Big)\\Bigg)\\qquad for \\; x \\in \\mathbb{R}^d\n",
    "\\end{equation}"
   ]
  },
  {
   "cell_type": "markdown",
   "id": "c199b43a",
   "metadata": {},
   "source": [
    "where $d$ is the feature number and $\\vec{a}_j$ are the data while $b_j$ are the labels.\n",
    "Now we would like to this applying the newton method to find a point that minimize such a function. This is possible because since $f$ is convex, all stationary points are minimizers and we search for the \"roots\" of the equation $\\nabla f=0$.\n",
    "The newton method we implement is of the form,\n",
    "\\begin{equation}\n",
    "    \\vec{x}_{n+1} = \\vec{x}_n -\\gamma Hf(\\vec{x}_n)^{-1}\\nabla f(\\vec{x}_n)\n",
    "\\end{equation}"
   ]
  },
  {
   "cell_type": "markdown",
   "id": "aab8957d",
   "metadata": {},
   "source": [
    "where $\\gamma$ is the step size.\n",
    "We solve the system $Hf(\\vec{x}_n)q=\\nabla f(\\vec{x}_n)$ using the CG method where as a preconditioned we have taken a the inverse of $Hf(\\vec{x}_n)$ computed using the random SVD presented in [1]."
   ]
  },
  {
   "cell_type": "code",
   "execution_count": 4,
   "id": "853a605e",
   "metadata": {},
   "outputs": [],
   "source": [
    "#We import all the library we are gona need\n",
    "import tensorflow as tf\n",
    "import numpy as np\n",
    "import pandas as pd\n",
    "%matplotlib inline\n",
    "import matplotlib.pyplot as plt\n",
    "from numsa.TFHessian import *\n",
    "import dsdl"
   ]
  },
  {
   "cell_type": "code",
   "execution_count": 5,
   "id": "67b73e8c",
   "metadata": {},
   "outputs": [
    {
     "name": "stdout",
     "output_type": "stream",
     "text": [
      "(1605, 119) (1605,)\n"
     ]
    }
   ],
   "source": [
    "ds = dsdl.load(\"a1a\")\n",
    "\n",
    "X, Y = ds.get_train()\n",
    "print(X.shape, Y.shape)"
   ]
  },
  {
   "cell_type": "code",
   "execution_count": 8,
   "id": "215af61a",
   "metadata": {
    "scrolled": false
   },
   "outputs": [
    {
     "name": "stderr",
     "output_type": "stream",
     "text": [
      " 20%|██        | 20/100 [00:00<00:00, 194.09it/s]"
     ]
    },
    {
     "name": "stdout",
     "output_type": "stream",
     "text": [
      "Computed the  first gradient ...\n",
      "Computed search search diratcion ...\n",
      "Lost funciton at this iteration 0.9243690371513367  and gradient norm 1.3872039318084717\n"
     ]
    },
    {
     "name": "stderr",
     "output_type": "stream",
     "text": [
      " 88%|████████▊ | 88/100 [00:00<00:00, 214.75it/s]"
     ]
    },
    {
     "name": "stdout",
     "output_type": "stream",
     "text": [
      "Lost funciton at this iteration 0.3988267183303833  and gradient norm 0.07041343301534653\n"
     ]
    },
    {
     "name": "stderr",
     "output_type": "stream",
     "text": [
      "100%|██████████| 100/100 [00:00<00:00, 211.34it/s]\n",
      "  0%|          | 0/100 [00:00<?, ?it/s]"
     ]
    },
    {
     "name": "stdout",
     "output_type": "stream",
     "text": [
      "Lost funciton at this iteration 0.37019962072372437  and gradient norm 0.041932351887226105\n"
     ]
    },
    {
     "name": "stderr",
     "output_type": "stream",
     "text": [
      " 10%|█         | 10/100 [00:41<06:14,  4.16s/it]"
     ]
    },
    {
     "name": "stdout",
     "output_type": "stream",
     "text": [
      "Lost funciton at this iteration 0.3065865635871887  and gradient norm 0.0067643579095602036\n"
     ]
    },
    {
     "name": "stderr",
     "output_type": "stream",
     "text": [
      " 20%|██        | 20/100 [01:23<05:33,  4.17s/it]"
     ]
    },
    {
     "name": "stdout",
     "output_type": "stream",
     "text": [
      "Lost funciton at this iteration 0.30081042647361755  and gradient norm 0.001130763441324234\n"
     ]
    },
    {
     "name": "stderr",
     "output_type": "stream",
     "text": [
      " 30%|███       | 30/100 [02:05<04:58,  4.27s/it]"
     ]
    },
    {
     "name": "stdout",
     "output_type": "stream",
     "text": [
      "Lost funciton at this iteration 0.2990850806236267  and gradient norm 0.0003155212034471333\n"
     ]
    },
    {
     "name": "stderr",
     "output_type": "stream",
     "text": [
      " 40%|████      | 40/100 [02:49<04:27,  4.47s/it]"
     ]
    },
    {
     "name": "stdout",
     "output_type": "stream",
     "text": [
      "Lost funciton at this iteration 0.2986849844455719  and gradient norm 0.00022607189021073282\n"
     ]
    },
    {
     "name": "stderr",
     "output_type": "stream",
     "text": [
      " 50%|█████     | 50/100 [03:31<03:23,  4.08s/it]"
     ]
    },
    {
     "name": "stdout",
     "output_type": "stream",
     "text": [
      "Lost funciton at this iteration 0.29835769534111023  and gradient norm 0.00010432228009449318\n"
     ]
    },
    {
     "name": "stderr",
     "output_type": "stream",
     "text": [
      " 51%|█████     | 51/100 [03:35<03:26,  4.22s/it]\n"
     ]
    }
   ],
   "source": [
    "#Setting the parameter of this run, we will use optimization nomeclature not ML one.\n",
    "itmax = 100; # Number of epoch.\n",
    "tol = 1e-4\n",
    "step_size = 0.2; #Learning rate\n",
    "Err = [];\n",
    "\"\"\"\n",
    "#Old Lost Function, intesead using Stefano's.\n",
    "#Defining the Loss Function\n",
    "def Loss(x):\n",
    "    S = tf.Variable(0.0);\n",
    "    for j in range(X.shape[0]):\n",
    "        a = tf.constant((X[j,:].todense().reshape(119,1)),dtype=np.float32);\n",
    "        b = tf.constant(Y[j],dtype=np.float32)\n",
    "        a = tf.reshape(a,(119,1));\n",
    "        x = tf.reshape(x,(119,1));\n",
    "        dot = tf.matmul(tf.transpose(a),x);\n",
    "        S = S+tf.math.log(1+tf.math.exp(-b*dot))\n",
    "    S = (1/X.shape[0])*S;\n",
    "    return S;\n",
    "\"\"\"\n",
    "tfX = tf.sparse.from_dense(np.array(X.todense(), dtype=np.float32))\n",
    "tfY = tf.convert_to_tensor(np.array(Y, dtype=np.float32).reshape(X.shape[0], 1))\n",
    "\n",
    "\n",
    "#Defining the Loss Function\n",
    "def Loss(x):\n",
    "    x = tf.reshape(x, (119, 1))\n",
    "    Z = tf.sparse.sparse_dense_matmul(tfX, x, adjoint_a=False)\n",
    "    Z = tf.math.multiply(tfY, Z)\n",
    "    S = tf.reduce_sum(tf.math.log(1 + tf.math.exp(-Z)) / tfX.shape[0])\n",
    "    return S\n",
    "\n",
    "#Defining the Hessian class for the above loss function in x0\n",
    "x = tf.Variable(0.1*np.ones((119,1),dtype=np.float32))\n",
    "H =  Hessian(Loss,x)\n",
    "grad = H.grad().numpy();\n",
    "print(\"Computed the  first gradient ...\")\n",
    "q = grad #H.pCG(grad,10,2,tol=1e-3,itmax=10);\n",
    "print(\"Computed search search diratcion ...\")\n",
    "for it in tqdm(range(itmax)):\n",
    "    x = x - tf.constant(step_size,dtype=np.float32)*tf.Variable(q,dtype=np.float32);\n",
    "    x =  tf.Variable(x)\n",
    "    if it%50 == 0:\n",
    "        print(\"Lost funciton at this iteration {}  and gradient norm {}\".format(Loss(x),np.linalg.norm(grad)));\n",
    "    if np.linalg.norm(grad)<tol:\n",
    "        break\n",
    "    H =  Hessian(Loss,x)\n",
    "    grad = H.grad().numpy();\n",
    "    q = grad #H.pCG(grad,10,2,tol=1e-3,itmax=10);\n",
    "itmax = 100; # Number of epoch.\n",
    "for it in tqdm(range(itmax)):\n",
    "    x = x - tf.constant(step_size,dtype=np.float32)*tf.Variable(q,dtype=np.float32);\n",
    "    x =  tf.Variable(x)\n",
    "    Err = Err + [np.linalg.norm(grad)];\n",
    "    if it%10 == 0:\n",
    "        print(\"Lost funciton at this iteration {}  and gradient norm {}\".format(Loss(x),np.linalg.norm(grad)));\n",
    "    if np.linalg.norm(grad)<tol:\n",
    "        break\n",
    "    H =  Hessian(Loss,x)\n",
    "    grad = H.grad().numpy();\n",
    "    q = H.pCG(grad,65,10,tol=1e-4,itmax=100);"
   ]
  },
  {
   "cell_type": "code",
   "execution_count": 11,
   "id": "6d1feb40",
   "metadata": {},
   "outputs": [
    {
     "name": "stdout",
     "output_type": "stream",
     "text": [
      "Lost funciton at this iteration 0.30211928486824036  and gradient norm 0.000638214813079685\n"
     ]
    }
   ],
   "source": [
    "print(\"Lost funciton at this iteration {}  and gradient norm {}\".format(Loss(x),np.linalg.norm(grad)));"
   ]
  },
  {
   "cell_type": "markdown",
   "id": "4da71096",
   "metadata": {},
   "source": [
    "### Quasi-Newton Method"
   ]
  },
  {
   "cell_type": "code",
   "execution_count": null,
   "id": "8ca0ce9f",
   "metadata": {},
   "outputs": [],
   "source": [
    "#We import all the library we are gona need\n",
    "import tensorflow as tf\n",
    "import numpy as np\n",
    "import pandas as pd\n",
    "%matplotlib inline\n",
    "import matplotlib.pyplot as plt\n",
    "from numsa.TFHessian import *\n",
    "import dsdl"
   ]
  },
  {
   "cell_type": "code",
   "execution_count": 2,
   "id": "8fe050d6",
   "metadata": {},
   "outputs": [
    {
     "name": "stdout",
     "output_type": "stream",
     "text": [
      "(1605, 119) (1605,)\n"
     ]
    }
   ],
   "source": [
    "ds = dsdl.load(\"a1a\")\n",
    "\n",
    "X, Y = ds.get_train()\n",
    "print(X.shape, Y.shape)"
   ]
  },
  {
   "cell_type": "code",
   "execution_count": 5,
   "id": "78de9805",
   "metadata": {
    "scrolled": false
   },
   "outputs": [
    {
     "name": "stderr",
     "output_type": "stream",
     "text": [
      " 15%|█▌        | 15/100 [00:00<00:00, 144.26it/s]"
     ]
    },
    {
     "name": "stdout",
     "output_type": "stream",
     "text": [
      "Computed the  first gradient ...\n",
      "Computed search search diratcion ...\n",
      "Lost funciton at this iteration 0.9243690371513367  and gradient norm 1.3872039318084717\n"
     ]
    },
    {
     "name": "stderr",
     "output_type": "stream",
     "text": [
      " 77%|███████▋  | 77/100 [00:00<00:00, 195.12it/s]"
     ]
    },
    {
     "name": "stdout",
     "output_type": "stream",
     "text": [
      "Lost funciton at this iteration 0.3988267183303833  and gradient norm 0.07041343301534653\n"
     ]
    },
    {
     "name": "stderr",
     "output_type": "stream",
     "text": [
      "100%|██████████| 100/100 [00:00<00:00, 187.89it/s]\n",
      "  0%|          | 0/100 [00:00<?, ?it/s]"
     ]
    },
    {
     "name": "stdout",
     "output_type": "stream",
     "text": [
      "Lost funciton at this iteration 0.37019962072372437  and gradient norm 0.041932351887226105\n"
     ]
    },
    {
     "name": "stderr",
     "output_type": "stream",
     "text": [
      "  5%|▌         | 5/100 [00:23<06:58,  4.40s/it]"
     ]
    },
    {
     "name": "stdout",
     "output_type": "stream",
     "text": [
      "Lost funciton at this iteration 0.3212338089942932  and gradient norm 0.018444659188389778\n"
     ]
    },
    {
     "name": "stderr",
     "output_type": "stream",
     "text": [
      " 10%|█         | 10/100 [00:47<06:36,  4.40s/it]"
     ]
    },
    {
     "name": "stdout",
     "output_type": "stream",
     "text": [
      "Lost funciton at this iteration 0.3076651096343994  and gradient norm 0.0066759707406163216\n"
     ]
    },
    {
     "name": "stderr",
     "output_type": "stream",
     "text": [
      " 15%|█▌        | 15/100 [01:11<06:19,  4.46s/it]"
     ]
    },
    {
     "name": "stdout",
     "output_type": "stream",
     "text": [
      "Lost funciton at this iteration 0.30385345220565796  and gradient norm 0.0024821243714541197\n"
     ]
    },
    {
     "name": "stderr",
     "output_type": "stream",
     "text": [
      " 20%|██        | 20/100 [01:35<05:56,  4.45s/it]"
     ]
    },
    {
     "name": "stdout",
     "output_type": "stream",
     "text": [
      "Lost funciton at this iteration 0.30251801013946533  and gradient norm 0.0011156557593494654\n"
     ]
    },
    {
     "name": "stderr",
     "output_type": "stream",
     "text": [
      " 25%|██▌       | 25/100 [02:00<05:44,  4.60s/it]"
     ]
    },
    {
     "name": "stdout",
     "output_type": "stream",
     "text": [
      "Lost funciton at this iteration 0.3015819787979126  and gradient norm 0.0007295323302969337\n"
     ]
    },
    {
     "name": "stderr",
     "output_type": "stream",
     "text": [
      " 30%|███       | 30/100 [02:25<05:14,  4.50s/it]"
     ]
    },
    {
     "name": "stdout",
     "output_type": "stream",
     "text": [
      "Lost funciton at this iteration 0.2998315989971161  and gradient norm 0.0005139752174727619\n"
     ]
    },
    {
     "name": "stderr",
     "output_type": "stream",
     "text": [
      " 35%|███▌      | 35/100 [02:49<04:51,  4.49s/it]"
     ]
    },
    {
     "name": "stdout",
     "output_type": "stream",
     "text": [
      "Lost funciton at this iteration 0.29897013306617737  and gradient norm 0.0002672745322342962\n"
     ]
    },
    {
     "name": "stderr",
     "output_type": "stream",
     "text": [
      " 40%|████      | 40/100 [03:14<04:34,  4.57s/it]"
     ]
    },
    {
     "name": "stdout",
     "output_type": "stream",
     "text": [
      "Lost funciton at this iteration 0.29869553446769714  and gradient norm 0.00016679601685609668\n"
     ]
    },
    {
     "name": "stderr",
     "output_type": "stream",
     "text": [
      " 45%|████▌     | 45/100 [03:39<04:06,  4.48s/it]"
     ]
    },
    {
     "name": "stdout",
     "output_type": "stream",
     "text": [
      "Lost funciton at this iteration 0.2984585762023926  and gradient norm 0.00012047346535837278\n"
     ]
    },
    {
     "name": "stderr",
     "output_type": "stream",
     "text": [
      " 49%|████▉     | 49/100 [03:59<04:09,  4.89s/it]\n"
     ]
    }
   ],
   "source": [
    "#Setting the parameter of this run, we will use optimization nomeclature not ML one.\n",
    "itmax = 100; # Number of epoch.\n",
    "tol = 1e-4\n",
    "step_size = 0.2; #Learning rate\n",
    "Err = [];\n",
    "Hs = [];\n",
    "\"\"\"\n",
    "#Old Lost Function, intesead using Stefano's.\n",
    "#Defining the Loss Function\n",
    "def Loss(x):\n",
    "    S = tf.Variable(0.0);\n",
    "    for j in range(X.shape[0]):\n",
    "        a = tf.constant((X[j,:].todense().reshape(119,1)),dtype=np.float32);\n",
    "        b = tf.constant(Y[j],dtype=np.float32)\n",
    "        a = tf.reshape(a,(119,1));\n",
    "        x = tf.reshape(x,(119,1));\n",
    "        dot = tf.matmul(tf.transpose(a),x);\n",
    "        S = S+tf.math.log(1+tf.math.exp(-b*dot))\n",
    "    S = (1/X.shape[0])*S;\n",
    "    return S;\n",
    "\"\"\"\n",
    "tfX = tf.sparse.from_dense(np.array(X.todense(), dtype=np.float32))\n",
    "tfY = tf.convert_to_tensor(np.array(Y, dtype=np.float32).reshape(X.shape[0], 1))\n",
    "\n",
    "\n",
    "#Defining the Loss Function\n",
    "def Loss(x):\n",
    "    x = tf.reshape(x, (119, 1))\n",
    "    Z = tf.sparse.sparse_dense_matmul(tfX, x, adjoint_a=False)\n",
    "    Z = tf.math.multiply(tfY, Z)\n",
    "    S = tf.reduce_sum(tf.math.log(1 + tf.math.exp(-Z)) / tfX.shape[0])\n",
    "    return S\n",
    "#Defining the Hessian class for the above loss function in x0\n",
    "x = tf.Variable(0.1*np.ones((119,1),dtype=np.float32))\n",
    "H =  Hessian(Loss,x)\n",
    "grad = H.grad().numpy();\n",
    "print(\"Computed the  first gradient ...\")\n",
    "q = grad #H.pCG(grad,10,2,tol=1e-3,itmax=10);\n",
    "print(\"Computed search search diratcion ...\")\n",
    "for it in tqdm(range(itmax)):\n",
    "    x = x - tf.constant(step_size,dtype=np.float32)*tf.Variable(q,dtype=np.float32);\n",
    "    x =  tf.Variable(x)\n",
    "    if it%50 == 0:\n",
    "        print(\"Lost funciton at this iteration {}  and gradient norm {}\".format(Loss(x),np.linalg.norm(grad)));\n",
    "    if np.linalg.norm(grad)<tol:\n",
    "        break\n",
    "    H =  Hessian(Loss,x)\n",
    "    grad = H.grad().numpy();\n",
    "    q = grad #H.pCG(grad,10,2,tol=1e-3,itmax=10);\n",
    "itmax = 100; # Number of epoch.\n",
    "for it in tqdm(range(itmax)):\n",
    "    x = x - tf.constant(step_size,dtype=np.float32)*tf.Variable(q,dtype=np.float32);\n",
    "    x =  tf.Variable(x)\n",
    "    Err = Err + [np.linalg.norm(grad)];\n",
    "    if it%5 == 0:\n",
    "        print(\"Lost funciton at this iteration {}  and gradient norm {}\".format(Loss(x),np.linalg.norm(grad)));\n",
    "        Hs = Hs + [H.mat()];\n",
    "    if np.linalg.norm(grad)<tol:\n",
    "        break\n",
    "    H =  Hessian(Loss,x)\n",
    "    grad = H.grad().numpy();\n",
    "    U, s, Vt = H.RandMatSVD(65,10)\n",
    "    q = (Vt.transpose()@np.linalg.inv(np.diag(s))@U.transpose())@grad;"
   ]
  },
  {
   "cell_type": "code",
   "execution_count": 7,
   "id": "1034f2dd",
   "metadata": {},
   "outputs": [
    {
     "name": "stdout",
     "output_type": "stream",
     "text": [
      "Lost funciton at this iteration 0.29835739731788635  and gradient norm 9.214008605340496e-05\n"
     ]
    }
   ],
   "source": [
    "np.save(\"Hs\",Hs)\n",
    "print(\"Lost funciton at this iteration {}  and gradient norm {}\".format(Loss(x),np.linalg.norm(grad)));"
   ]
  }
 ],
 "metadata": {
  "kernelspec": {
   "display_name": "Python 3",
   "language": "python",
   "name": "python3"
  },
  "language_info": {
   "codemirror_mode": {
    "name": "ipython",
    "version": 3
   },
   "file_extension": ".py",
   "mimetype": "text/x-python",
   "name": "python",
   "nbconvert_exporter": "python",
   "pygments_lexer": "ipython3",
   "version": "3.8.10"
  }
 },
 "nbformat": 4,
 "nbformat_minor": 5
}
