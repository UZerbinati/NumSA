{
 "cells": [
  {
   "cell_type": "markdown",
   "id": "45b1db32",
   "metadata": {},
   "source": [
    "## Hessian Example\n",
    "### Cubic Lost Function and Taylor Expansion\n",
    "Here it is shown how to compute the Hessian of a lost function delcared using TensorFlow.\n",
    "Let us consider the following lost function,\n",
    "$$ \\mathcal{L}(x,y) = 2x^3y^3 $$"
   ]
  },
  {
   "cell_type": "markdown",
   "id": "4e306569",
   "metadata": {},
   "source": [
    "$$ \\nabla \\mathcal{L} (x,y) = \\begin{bmatrix}\n",
    "6x^2y^3\\\\6x^3y^2\n",
    "\\end{bmatrix}\\\\\n",
    "\\mathcal{H}(x,y) = \\begin{bmatrix}\n",
    "12 x y^3 & 18x^2y^2\\\\\n",
    "18 x^2 y^2 & 12 x^3 y\n",
    "\\end{bmatrix}$$"
   ]
  },
  {
   "cell_type": "markdown",
   "id": "267d6a15",
   "metadata": {},
   "source": [
    "now thanks to the Taylor expansion the Hessian is used to approximate the lost function.\n",
    "$$\\mathcal{L}(x^*,y^*) = \\mathcal{L}(x_0,y_0) + \\nabla \\mathcal{L}(x_0,y_0)\\cdot \\begin{bmatrix}\\Delta x\\\\\\Delta y\\end{bmatrix}+ \\begin{bmatrix}\\Delta x\\\\\\Delta y\\end{bmatrix}\\cdot\\mathcal{H}(x_0,y_0)\\begin{bmatrix}\\Delta x\\\\\\Delta y\\end{bmatrix}+\\mathcal{O}(\\max\\{\\Delta x,\\Delta y\\}^3)$$"
   ]
  },
  {
   "cell_type": "code",
   "execution_count": 2,
   "id": "7990f15f",
   "metadata": {},
   "outputs": [],
   "source": [
    "#We import all the library we are gona need\n",
    "import tensorflow as tf\n",
    "import numpy as np\n",
    "%matplotlib inline\n",
    "import matplotlib.pyplot as plt\n",
    "from numsa.TFHessian import *"
   ]
  },
  {
   "cell_type": "code",
   "execution_count": 33,
   "id": "b9907d96",
   "metadata": {
    "scrolled": false
   },
   "outputs": [],
   "source": [
    "#Defining the Loss Function\n",
    "def Loss(X):\n",
    "    return 2*X[0]**3*X[1]**3;\n",
    "#Defining the Hessian class for the above loss function in x\n",
    "x0 = tf.Variable([1.0,1.0])\n",
    "H =  Hessian(Loss,x0)"
   ]
  },
  {
   "cell_type": "code",
   "execution_count": 3,
   "id": "754248a7",
   "metadata": {
    "scrolled": false
   },
   "outputs": [
    {
     "name": "stdout",
     "output_type": "stream",
     "text": [
      "Convergence order 3.160964012145996\n"
     ]
    },
    {
     "data": {
      "image/png": "[encoded data removed]",
      "text/plain": [
       "<Figure size 432x288 with 1 Axes>"
      ]
     },
     "metadata": {
      "needs_background": "light"
     },
     "output_type": "display_data"
    }
   ],
   "source": [
    "Error = [];\n",
    "ErrorH = [];\n",
    "N = 10\n",
    "for n in range(N):\n",
    "    h = 1/(2**n);\n",
    "    ErrorH = ErrorH + [h];\n",
    "    x = tf.Variable([1.0+h,1.0+h]);\n",
    "    v = tf.Variable([h,h]);\n",
    "    Grad, Hv = H.action(v,True)\n",
    "    err = abs(Loss(x)-Loss(x0)-tf.tensordot(Grad,v,1)\n",
    "    -0.5*tf.tensordot(v,Hv,1));\n",
    "    Error = Error + [err];\n",
    "plt.loglog(ErrorH,Error,\"*-\")\n",
    "plt.loglog(ErrorH,[10*h**3 for h in ErrorH],\"--\")\n",
    "plt.legend([\"2nd Order Taylor Error\",\"3rd Order Convergence\"])\n",
    "order = (tf.math.log(Error[7])-tf.math.log(Error[9]))/(np.log(ErrorH[7])-np.log(ErrorH[9]))\n",
    "print(\"Convergence order {}\".format(order))"
   ]
  },
  {
   "cell_type": "markdown",
   "id": "c98b8bea",
   "metadata": {},
   "source": [
    "$$\\mathcal{H}(1,1) = \\begin{bmatrix}\n",
    "12 & 18\\\\\n",
    "18 & 12\n",
    "\\end{bmatrix}, \\qquad \\lambda_1 = 30 \\qquad \\lambda_2 = -6$$"
   ]
  },
  {
   "cell_type": "code",
   "execution_count": 4,
   "id": "cb23ba96",
   "metadata": {},
   "outputs": [
    {
     "data": {
      "text/plain": [
       "<tf.Tensor: shape=(), dtype=float32, numpy=30.000002>"
      ]
     },
     "execution_count": 4,
     "metadata": {},
     "output_type": "execute_result"
    }
   ],
   "source": [
    "H.eig(\"pi-max\") #Power iteration to find the maximum eigenvalue."
   ]
  },
  {
   "cell_type": "markdown",
   "id": "fdc51b73",
   "metadata": {},
   "source": [
    "### Very Small Neural Network Built With KERAS"
   ]
  },
  {
   "cell_type": "code",
   "execution_count": 5,
   "id": "ce66dd80",
   "metadata": {},
   "outputs": [],
   "source": [
    "import tensorflow as tf\n",
    "import numpy as np\n",
    "import matplotlib.pyplot as plt\n",
    "from numsa.TFHessian import *\n",
    "\n",
    "from tqdm.notebook import tqdm"
   ]
  },
  {
   "cell_type": "code",
   "execution_count": 6,
   "id": "bfa5c088",
   "metadata": {
    "scrolled": false
   },
   "outputs": [
    {
     "data": {
      "application/vnd.jupyter.widget-view+json": {
       "model_id": "4abed367ce694e36b67a6b5f78733317",
       "version_major": 2,
       "version_minor": 0
      },
      "text/plain": [
       "  0%|          | 0/100 [00:00<?, ?it/s]"
      ]
     },
     "metadata": {},
     "output_type": "display_data"
    },
    {
     "name": "stdout",
     "output_type": "stream",
     "text": [
      "Test 0 with data [0. 0.] produce [[0.]] .\n",
      "Test 1 with data [0. 1.] produce [[0.]] .\n",
      "Test 2 with data [1. 0.] produce [[0.]] .\n",
      "Test 3 with data [1. 1.] produce [[0.]] .\n"
     ]
    }
   ],
   "source": [
    "Ord = 1;\n",
    "optimizer = tf.keras.optimizers.SGD(learning_rate=1e-3)\n",
    "init = tf.keras.initializers.RandomNormal(mean=0.0, stddev=0.05, seed=None)\n",
    "# Inputs\n",
    "training_data = np.array([[0,0],[0,1],[1,0],[1,1]], \"float32\")\n",
    "# Outputs\n",
    "\n",
    "training_label = np.array([[0],[1],[1],[0]], \"float32\")\n",
    "training_dataset = tf.data.Dataset.from_tensor_slices((training_data, training_label))\n",
    "model = tf.keras.Sequential([\n",
    "    tf.keras.layers.Dense(2,input_dim=2, activation='softmax',bias_initializer=init),#2 nodes hidden layer\n",
    "    tf.keras.layers.Dense(1)\n",
    "])\n",
    "def loss_fn(y,x):\n",
    "    return tf.math.reduce_mean(tf.math.squared_difference(y, x));\n",
    "def Loss(weights):\n",
    "    predictions = model(training_data, training=True) #Logits for this minibatch\n",
    "    # Compute the loss value for this minibatch.\n",
    "    loss_value = loss_fn(training_label, predictions);\n",
    "    return loss_value;\n",
    "for epoch in tqdm(range(100)):\n",
    "    for step, (x,y) in enumerate(training_dataset):\n",
    "        if Ord == 2:\n",
    "            # Compute Hessian and Gradients\n",
    "            H = Hessian(Loss,model.trainable_weights,\"KERAS\")\n",
    "            fullH, grad = H.mat(model.trainable_weights,grad=True);\n",
    "            #Reshaping the Hessians\n",
    "            grads = [tf.Variable(grad[0:4].reshape(2,2),dtype=np.float32),\n",
    "                     tf.Variable(grad[4:6].reshape(2,),dtype=np.float32),\n",
    "                     tf.Variable(grad[6:8].reshape(2,1),dtype=np.float32),\n",
    "                     tf.Variable(grad[8].reshape(1,),dtype=np.float32),]\n",
    "        if Ord == 1:\n",
    "            with tf.GradientTape() as tape:\n",
    "                # Run the forward pass of the layer.\n",
    "                # The operations that the layer applies\n",
    "                # to its inputs are going to be recorded\n",
    "                # on the GradientTape.\n",
    "                labels = model(training_data, training=True)  # Logits for this minibatch\n",
    "                # Compute the loss value for this minibatch.\n",
    "                loss_value = loss_fn(training_label, labels)\n",
    "                # Use the gradient tape to automatically retrieve\n",
    "                # the gradients of the trainable variables with respect to the loss.\n",
    "                grads = tape.gradient(loss_value, model.trainable_weights)\n",
    "        optimizer.apply_gradients(zip(grads, model.trainable_weights))\n",
    "for step, (x,y) in enumerate(training_dataset):\n",
    "    print(\"Test {} with data {} produce {} .\".format(step,x,tf.math.round(model(np.array([x])))))"
   ]
  },
  {
   "cell_type": "code",
   "execution_count": 7,
   "id": "534f49e3",
   "metadata": {},
   "outputs": [
    {
     "name": "stdout",
     "output_type": "stream",
     "text": [
      "Number of trainable layers 4\n",
      "Number of weights trainable per layer 0, (2, 2)\n",
      "Number of weights trainable per layer 1, (2,)\n",
      "Number of weights trainable per layer 2, (2, 1)\n",
      "Number of weights trainable per layer 3, (1,)\n"
     ]
    }
   ],
   "source": [
    "print(\"Number of trainable layers {}\".format(len(model.trainable_weights)))\n",
    "print(\"Number of weights trainable per layer 0, {}\".format(model.trainable_weights[0].shape))\n",
    "print(\"Number of weights trainable per layer 1, {}\".format(model.trainable_weights[1].shape))\n",
    "print(\"Number of weights trainable per layer 2, {}\".format(model.trainable_weights[2].shape))\n",
    "print(\"Number of weights trainable per layer 3, {}\".format(model.trainable_weights[3].shape))"
   ]
  },
  {
   "cell_type": "code",
   "execution_count": 8,
   "id": "869d7633",
   "metadata": {
    "scrolled": false
   },
   "outputs": [
    {
     "name": "stdout",
     "output_type": "stream",
     "text": [
      "MPI the world is 1 process big !\n",
      "0.00039930374\n"
     ]
    },
    {
     "data": {
      "image/png": "[encoded data removed]",
      "text/plain": [
       "<Figure size 432x288 with 2 Axes>"
      ]
     },
     "metadata": {
      "needs_background": "light"
     },
     "output_type": "display_data"
    }
   ],
   "source": [
    "#Function written for parallel\n",
    "def Loss(weights,comm):\n",
    "    batches = np.array_split(training_data,comm.Get_size());\n",
    "    predictions = model(batches[comm.Get_rank()], training=True) #Logits for this minibatch\n",
    "    # Compute the loss value for this minibatch.\n",
    "    loss_value = loss_fn(training_label, predictions);\n",
    "    return loss_value;\n",
    "\n",
    "#Function written for serial\n",
    "def Loss(weights):\n",
    "    predictions = model(training_data, training=True) #Logits for this minibatch\n",
    "    # Compute the loss value for this minibatch.\n",
    "    loss_value = loss_fn(training_label, predictions);\n",
    "    return loss_value;\n",
    "\n",
    "H = Hessian(Loss,model.trainable_weights,\"KERAS\")\n",
    "H.SwitchVerbose(True)\n",
    "fullH= H.mat();\n",
    "plt.imshow((np.log10(abs(fullH)+1e-16)))\n",
    "plt.colorbar()\n",
    "print(np.min(abs(fullH)))"
   ]
  },
  {
   "cell_type": "code",
   "execution_count": 9,
   "id": "8d7cef68",
   "metadata": {},
   "outputs": [
    {
     "name": "stderr",
     "output_type": "stream",
     "text": [
      "\r",
      "  0%|          | 0/4 [00:00<?, ?it/s]"
     ]
    },
    {
     "name": "stdout",
     "output_type": "stream",
     "text": [
      "MPI the world is 1 process big !\n"
     ]
    },
    {
     "name": "stderr",
     "output_type": "stream",
     "text": [
      "100%|██████████| 4/4 [00:00<00:00, 38.37it/s]\n",
      "100%|██████████| 2/2 [00:00<00:00, 43.11it/s]\n",
      "100%|██████████| 2/2 [00:00<00:00, 42.38it/s]\n",
      "100%|██████████| 1/1 [00:00<00:00, 42.90it/s]\n"
     ]
    },
    {
     "name": "stdout",
     "output_type": "stream",
     "text": [
      "0.0003993037389591336\n"
     ]
    },
    {
     "data": {
      "image/png": "[encoded data removed]",
      "text/plain": [
       "<Figure size 432x288 with 2 Axes>"
      ]
     },
     "metadata": {
      "needs_background": "light"
     },
     "output_type": "display_data"
    }
   ],
   "source": [
    "fullH= H.matrix(\"KERAS\");\n",
    "plt.imshow((np.log10(abs(fullH)+1e-16)))\n",
    "plt.colorbar()\n",
    "print(np.min(abs(fullH)))"
   ]
  },
  {
   "cell_type": "code",
   "execution_count": 10,
   "id": "1f159ea0",
   "metadata": {},
   "outputs": [
    {
     "name": "stdout",
     "output_type": "stream",
     "text": [
      "True\n"
     ]
    }
   ],
   "source": [
    "w = np.random.rand(9,1)\n",
    "print((abs(fullH@w-(H.vecprod(w).reshape(9,1)))<1e-6).all())"
   ]
  },
  {
   "cell_type": "code",
   "execution_count": 11,
   "id": "4f948866",
   "metadata": {
    "scrolled": false
   },
   "outputs": [
    {
     "data": {
      "text/plain": [
       "[<matplotlib.lines.Line2D at 0x7f336d4e3100>]"
      ]
     },
     "execution_count": 11,
     "metadata": {},
     "output_type": "execute_result"
    },
    {
     "data": {
      "image/png": "[encoded data removed]",
      "text/plain": [
       "<Figure size 432x288 with 1 Axes>"
      ]
     },
     "metadata": {
      "needs_background": "light"
     },
     "output_type": "display_data"
    }
   ],
   "source": [
    "_,sigmas,_ = np.linalg.svd(fullH)\n",
    "_,Rsigmas,_ = H.RandMatSVD(4,2);\n",
    "plt.plot([abs(Rsigmas[r]-sigmas[r]) for r in range(len(Rsigmas))])"
   ]
  },
  {
   "cell_type": "code",
   "execution_count": 12,
   "id": "79bcc438",
   "metadata": {},
   "outputs": [
    {
     "data": {
      "text/plain": [
       "[<matplotlib.lines.Line2D at 0x7f336d445f10>]"
      ]
     },
     "execution_count": 12,
     "metadata": {},
     "output_type": "execute_result"
    },
    {
     "data": {
      "image/png": "[encoded data removed]",
      "text/plain": [
       "<Figure size 432x288 with 1 Axes>"
      ]
     },
     "metadata": {
      "needs_background": "light"
     },
     "output_type": "display_data"
    }
   ],
   "source": [
    "_,KRsigmas,_ = H.RandMatSVD(4,2,Krylov=3);\n",
    "plt.plot([abs(KRsigmas[r]-sigmas[r]) for r in range(len(KRsigmas))])"
   ]
  },
  {
   "cell_type": "code",
   "execution_count": 13,
   "id": "a362241c",
   "metadata": {
    "scrolled": false
   },
   "outputs": [
    {
     "name": "stdout",
     "output_type": "stream",
     "text": [
      "[ 3.05964799e+00  4.48098994e-01 -3.85493644e-01  1.37021044e-02\n",
      "  5.93803975e-04 -1.53009930e-08 -3.46201486e-09 -1.07528117e-09\n",
      "  1.05662170e-09]\n",
      "Iteration 0 residual 0.8491937201068991, alpha -5.656056460522596 < 0\n"
     ]
    },
    {
     "data": {
      "text/plain": [
       "(9, 1)"
      ]
     },
     "execution_count": 13,
     "metadata": {},
     "output_type": "execute_result"
    }
   ],
   "source": [
    "b = np.ones((9,1));\n",
    "print(la.eig(fullH)[0])\n",
    "H.pCG(b,4,2).shape"
   ]
  },
  {
   "cell_type": "markdown",
   "id": "24df0640",
   "metadata": {},
   "source": [
    "### Hessian Based Training"
   ]
  },
  {
   "cell_type": "code",
   "execution_count": 14,
   "id": "8f6cdbbc",
   "metadata": {},
   "outputs": [
    {
     "data": {
      "application/vnd.jupyter.widget-view+json": {
       "model_id": "5685298e64834dc284b58fb12d1bf641",
       "version_major": 2,
       "version_minor": 0
      },
      "text/plain": [
       "  0%|          | 0/200 [00:00<?, ?it/s]"
      ]
     },
     "metadata": {},
     "output_type": "display_data"
    },
    {
     "name": "stdout",
     "output_type": "stream",
     "text": [
      "Test 0 with data [0. 0.] produce [[0.]] .\n",
      "Test 0 with data [0. 0.] produce [[0.48190117]] .\n",
      "Test 1 with data [0. 1.] produce [[0.]] .\n",
      "Test 1 with data [0. 1.] produce [[0.46368325]] .\n",
      "Test 2 with data [1. 0.] produce [[1.]] .\n",
      "Test 2 with data [1. 0.] produce [[0.500142]] .\n",
      "Test 3 with data [1. 1.] produce [[0.]] .\n",
      "Test 3 with data [1. 1.] produce [[0.4818064]] .\n"
     ]
    }
   ],
   "source": [
    "Ord = 1;\n",
    "optimizer = tf.keras.optimizers.SGD(learning_rate=1e-3)\n",
    "init = tf.keras.initializers.RandomNormal(mean=0.0, stddev=0.05, seed=None)\n",
    "# Inputs\n",
    "training_data = np.array([[0,0],[0,1],[1,0],[1,1]], \"float32\")\n",
    "# Outputs\n",
    "\n",
    "training_label = np.array([[0],[1],[1],[0]], \"float32\")\n",
    "training_dataset = tf.data.Dataset.from_tensor_slices((training_data, training_label))\n",
    "model = tf.keras.Sequential([\n",
    "    tf.keras.layers.Dense(2,input_dim=2, activation='softmax',bias_initializer=init),#2 nodes hidden layer\n",
    "    tf.keras.layers.Dense(1)\n",
    "])\n",
    "def loss_fn(y,x):\n",
    "    return tf.math.reduce_mean(tf.math.squared_difference(y, x));\n",
    "def Loss(weights):\n",
    "    predictions = model(training_data, training=True) #Logits for this minibatch\n",
    "    # Compute the loss value for this minibatch.\n",
    "    loss_value = loss_fn(training_label, predictions);\n",
    "    return loss_value;\n",
    "for epoch in tqdm(range(200)):\n",
    "    for step, (x,y) in enumerate(training_dataset):\n",
    "        with tf.GradientTape() as tape:\n",
    "            # Run the forward pass of the layer.\n",
    "            # The operations that the layer applies\n",
    "            # to its inputs are going to be recorded\n",
    "            # on the GradientTape.\n",
    "            labels = model(training_data, training=True)  # Logits for this minibatch\n",
    "            # Compute the loss value for this minibatch.\n",
    "            loss_value = loss_fn(training_label, labels)\n",
    "            # Use the gradient tape to automatically retrieve\n",
    "            # the gradients of the trainable variables with respect to the loss.\n",
    "            grads = tape.gradient(loss_value, model.trainable_weights)\n",
    "            H = Hessian(Loss,model.trainable_weights,\"KERAS\")\n",
    "            Grad = H.vec(grads).reshape((9,1));\n",
    "            q = H.pCG(Grad,4,2);\n",
    "            search = [tf.Variable(q[0:4].reshape(2,2),dtype=np.float32),\n",
    "                     tf.Variable(q[4:6].reshape(2,),dtype=np.float32),\n",
    "                     tf.Variable(q[6:8].reshape(2,1),dtype=np.float32),\n",
    "                     tf.Variable(q[8].reshape(1,),dtype=np.float32),]\n",
    "    optimizer.apply_gradients(zip(search, model.trainable_weights))\n",
    "    if sum([abs(y-tf.math.round(model(np.array([x])))) for (x,y) in training_dataset]) == 0.0:\n",
    "        break;\n",
    "for step, (x,y) in enumerate(training_dataset):\n",
    "    print(\"Test {} with data {} produce {} .\".format(step,x,tf.math.round(model(np.array([x])))))\n",
    "    print(\"Test {} with data {} produce {} .\".format(step,x,model(np.array([x]))))"
   ]
  },
  {
   "cell_type": "code",
   "execution_count": null,
   "id": "b61f7a2a",
   "metadata": {},
   "outputs": [],
   "source": []
  }
 ],
 "metadata": {
  "kernelspec": {
   "display_name": "Python 3",
   "language": "python",
   "name": "python3"
  },
  "language_info": {
   "codemirror_mode": {
    "name": "ipython",
    "version": 3
   },
   "file_extension": ".py",
   "mimetype": "text/x-python",
   "name": "python",
   "nbconvert_exporter": "python",
   "pygments_lexer": "ipython3",
   "version": "3.8.10"
  }
 },
 "nbformat": 4,
 "nbformat_minor": 5
}
