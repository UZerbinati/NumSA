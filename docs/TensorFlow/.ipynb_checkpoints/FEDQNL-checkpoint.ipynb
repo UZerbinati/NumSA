{
 "cells": [
  {
   "cell_type": "markdown",
   "id": "be0186b5",
   "metadata": {},
   "source": [
    "## Federated Quasi Newton Learn\n",
    "Here is proposed a version of the Federated Newton Learn algorithm combined with some of the ideas behind the quasi Newton method."
   ]
  },
  {
   "cell_type": "code",
   "execution_count": 12,
   "id": "3a1030f0",
   "metadata": {},
   "outputs": [
    {
     "data": {
      "text/plain": [
       "[0, 1]"
      ]
     },
     "execution_count": 12,
     "metadata": {},
     "output_type": "execute_result"
    }
   ],
   "source": [
    "from ipyparallel import Client\n",
    "c = Client()\n",
    "c.ids"
   ]
  },
  {
   "cell_type": "code",
   "execution_count": 13,
   "id": "b446ec34",
   "metadata": {
    "scrolled": false
   },
   "outputs": [
    {
     "data": {
      "text/plain": [
       "[stdout:0] 0.93067896\n",
       "Compressing Diad + LR ...\n",
       "Assembling the the comp ...\n",
       "Built the compression ...\n",
       "Inverting the compression\n",
       "The master Hessian has been initialised\n",
       "(FedNL) [Iteration. 0] Lost funciton at this iteration 1.2675940990447998  and gradient norm 1.388305902481079, back tracing it 0 and step 1.0.\n",
       "(FedNL) [Iteration. 10] Lost funciton at this iteration 0.34099724888801575  and gradient norm 0.014076415449380875, back tracing it 0 and step 1.0.\n",
       "(FedNL) [Iteration. 20] Lost funciton at this iteration 0.3373202383518219  and gradient norm 0.0033623073250055313, back tracing it 0 and step 1.0.\n",
       "(FedNL) [Iteration. 30] Lost funciton at this iteration 0.33698174357414246  and gradient norm 0.0013159469235688448, back tracing it 0 and step 1.0.\n",
       "(FedNL) [Iteration. 40] Lost funciton at this iteration 0.33692750334739685  and gradient norm 0.0005585871986113489, back tracing it 0 and step 1.0.\n",
       "(FedNL) [Iteration. 50] Lost funciton at this iteration 0.33691754937171936  and gradient norm 0.0002437441871734336, back tracing it 0 and step 1.0.\n",
       "(FedNL) [Iteration. 60] Lost funciton at this iteration 0.33691564202308655  and gradient norm 0.0001074778992915526, back tracing it 0 and step 1.0.\n",
       "Lost funciton at this iteration 0.336915522813797, gradient norm 0.02013934589922428 and error 4.172325134277344e-07.\n"
      ]
     },
     "metadata": {},
     "output_type": "display_data"
    },
    {
     "data": {
      "text/plain": [
       "[stdout:1] 0.93067896\n",
       "The master Hessian has been initialised\n",
       "Lost funciton at this iteration 0.336915522813797, gradient norm 0.02016938105225563 and error 4.172325134277344e-07.\n"
      ]
     },
     "metadata": {},
     "output_type": "display_data"
    },
    {
     "data": {
      "application/vnd.jupyter.widget-view+json": {
       "model_id": "adb9c7f04ad24a9cafc46a221e1831af",
       "version_major": 2,
       "version_minor": 0
      },
      "text/plain": [
       "%px:   0%|          | 0/2 [00:00<?, ?tasks/s]"
      ]
     },
     "metadata": {},
     "output_type": "display_data"
    },
    {
     "data": {
      "text/plain": [
       "[stderr:1]  61%|██████    | 61/100 [00:09<00:06,  6.48it/s]\n"
      ]
     },
     "metadata": {},
     "output_type": "display_data"
    },
    {
     "data": {
      "text/plain": [
       "[stderr:0]  61%|██████    | 61/100 [00:09<00:06,  6.49it/s]\n"
      ]
     },
     "metadata": {},
     "output_type": "display_data"
    }
   ],
   "source": [
    "%%px\n",
    "import tensorflow as tf\n",
    "import numpy as np\n",
    "import scipy.linalg as la\n",
    "import pandas as pd\n",
    "import matplotlib.pyplot as plt\n",
    "from numsa.TFHessian import *\n",
    "import dsdl\n",
    "from copy import copy, deepcopy\n",
    "\n",
    "comm = MPI.COMM_WORLD\n",
    "\n",
    "ds = dsdl.load(\"a1a\")\n",
    "\n",
    "X, Y = ds.get_train()\n",
    "indx = np.array_split(range(X.shape[0]),int(comm.Get_size()));\n",
    "tfX = []\n",
    "tfY = []\n",
    "for k in range(len(indx)):\n",
    "    tfX = tfX + [tf.sparse.from_dense(np.array(X[indx[comm.Get_rank()]].todense(), dtype=np.float32))]\n",
    "    tfY = tfY + [tf.convert_to_tensor(np.array(Y[indx[comm.Get_rank()]], dtype=np.float32).reshape(X[indx[comm.Get_rank()]].shape[0], 1))]\n",
    "\n",
    "tfXs = tf.sparse.from_dense(np.array(X.todense(), dtype=np.float32))\n",
    "tfYs = tf.convert_to_tensor(np.array(Y, dtype=np.float32).reshape(X.shape[0], 1))\n",
    "#Defining the Loss Function\n",
    "def LossSerial(x):\n",
    "    lam = 1e-3; #Regularisation\n",
    "    x = tf.reshape(x, (119, 1))\n",
    "    Z = tf.sparse.sparse_dense_matmul(tfXs, x, adjoint_a=False)\n",
    "    Z = tf.math.multiply(tfYs, Z)\n",
    "    S = tf.reduce_sum(tf.math.log(1 + tf.math.exp(-Z)) / tfXs.shape[0]) + lam*tf.norm(x)**2\n",
    "\n",
    "    return S\n",
    "#Defining the Loss Function\n",
    "def Loss(x,comm):\n",
    "    lam = 1e-3; #Regularisation\n",
    "    x = tf.reshape(x, (119, 1))\n",
    "    Z = tf.sparse.sparse_dense_matmul(tfX[comm.Get_rank()], x, adjoint_a=False)\n",
    "    Z = tf.math.multiply(tfY[comm.Get_rank()], Z)\n",
    "    S = tf.reduce_sum(tf.math.log(1 + tf.math.exp(-Z)) / tfX[comm.Get_rank()].shape[0]) + lam*tf.norm(x)**2\n",
    "    return S\n",
    "################! Setting Of The Solver!##################\n",
    "itmax = 100\n",
    "tol = 1e-4;\n",
    "N = 119;\n",
    "step_size = 2.0\n",
    "avg = False;\n",
    "\n",
    "bkitmax = 1;\n",
    "tau = 0.5\n",
    "c = 0.5;\n",
    "###########################################################\n",
    "Residuals = [];\n",
    "TBCHistory = [];\n",
    "x = tf.Variable(0.1*np.ones((119,1),dtype=np.float32))\n",
    "LossStar =  0.33691510558128357;\n",
    "print(np.abs(LossSerial(x)-LossStar))\n",
    "H = Hessian(Loss,x);\n",
    "Hm = Hessian(Loss,x);\n",
    "M = H.comm.Get_size();\n",
    "H.shift(x, opt={\"type\":\"act\"},start=H.vecprod)\n",
    "init = H.mat()\n",
    "Inits = H.comm.gather(init, root=0)\n",
    "\n",
    "if H.comm.Get_rank()==0:\n",
    "    #QInv = np.linalg.inv((1/len(Inits))*np.sum(Inits,0))\n",
    "    H0 = (1/len(Inits))*np.sum(Inits,0);\n",
    "    print(\"Compressing Diad + LR ...\");\n",
    "    cU, cS, cVt = MatSVDComp(H0-np.diag(np.diag(H0)),80);\n",
    "    print(\"Assembling the the comp ...\")\n",
    "    C =  cU@np.diag(cS)@cVt;\n",
    "    print(\"Built the compression ...\")\n",
    "    A = np.diag(np.diag(H0))+C;\n",
    "    print(\"Inverting the compression\")\n",
    "    QInv = np.linalg.inv(A);\n",
    "else:\n",
    "    QInv = None;\n",
    "\n",
    "print(\"The master Hessian has been initialised\")\n",
    "for it in tqdm(range(itmax)):\n",
    "    # Obtaining the compression of the difference between local mat\n",
    "    # and next local mat.\n",
    "    U,sigma,Vt = H.shift(x,{\"comp\":ActHalko,\"rk\":1,\"type\":\"act\"});\n",
    "    #print(\"TBC: {}\".format(sigma[0]));\n",
    "    #print(\"Updating local Hessian\")\n",
    "    Hm = Hessian(Loss,x);\n",
    "    H.memH =copy(Hm.vecprod);\n",
    "    grad = H.grad().numpy();\n",
    "    #Now we update the master Hessian and perform the Newton method step\n",
    "    ShiftUs = H.comm.gather(U, root=0);\n",
    "    ShiftVs = H.comm.gather(sigma[0]*Vt, root=0);\n",
    "    Grads = H.comm.gather(grad, root=0);\n",
    "    Umat = np.zeros((N,H.comm.Get_size()));\n",
    "    Vmat = np.zeros((H.comm.Get_size(),N));\n",
    "    if H.comm.Get_rank() == 0:\n",
    "        #print(\"Computing the avarage of the local shifts and grad ...\")\n",
    "        if not avg:\n",
    "            for j in range(H.comm.Get_size()):\n",
    "                Umat[:,j] = ShiftUs[j].reshape(N,);\n",
    "                Vmat[j,:] = ShiftVs[j];\n",
    "            Uu, Su, Vut = np.linalg.svd(Umat);\n",
    "            Uv, Sv, Vvt = np.linalg.svd(Vmat);\n",
    "            #Building the Rank 1 approximation\n",
    "            u = Uu[:,0].reshape((N,1));\n",
    "            v = (Su[0]*Sv[0])*Vut[0,:].reshape(1,M)@Uv[:,0].reshape(M,1)@Vvt[0,:].reshape(1,N)\n",
    "        else:\n",
    "            u = (1/len(ShiftUs))*np.sum(ShiftUs,0);\n",
    "            v = (1/len(ShiftVs))*np.sum(ShiftVs,0);\n",
    "        Grad = (1/len(Grads))*np.sum(Grads,0);\n",
    "        res = np.linalg.norm(Grad);\n",
    "        Residuals = Residuals + [res];\n",
    "        TBCHistory = TBCHistory + [sigma[0]];\n",
    "        #print(\"Computing the master Hessian ...\")\n",
    "        #SHERMAN-MORRISON\n",
    "        normal = (1+v@QInv@u);\n",
    "        #print(\"Normalisation: \",normal);\n",
    "        A = QInv@u@v@QInv;\n",
    "        #print(\"Searching new search direction ...\")\n",
    "        QInv = QInv - (1/(1+normal))*A;\n",
    "        #Back traking\n",
    "        step = step_size;\n",
    "        q =  QInv@Grad;\n",
    "        for bkit in range(bkitmax):\n",
    "                m = Grad.T@q\n",
    "                t = -c*m;\n",
    "                if LossSerial(x)-LossSerial(x - tf.Variable(step*q,dtype=np.float32))>step*tau:\n",
    "                    break\n",
    "                else:\n",
    "                    step = tau*step;\n",
    "        #print(\"Found search dir, \",q.shape);\n",
    "        if it%10 == 0:\n",
    "            print(\"(FedNL) [Iteration. {}] Lost funciton at this iteration {}  and gradient norm {}, back tracing it {} and step {}.\".format(it,LossSerial(x),np.linalg.norm(Grad),bkit,step));\n",
    "        x = x - tf.Variable(step*q,dtype=np.float32);\n",
    "        x =  tf.Variable(x)\n",
    "    else:\n",
    "        res = None\n",
    "    #Distributing the search direction\n",
    "    x = H.comm.bcast(x,root=0)\n",
    "    res = H.comm.bcast(res,root=0)\n",
    "    if res<tol:\n",
    "            break\n",
    "print(\"Lost funciton at this iteration {}, gradient norm {} and error {}.\".format(LossSerial(x),np.linalg.norm(grad),abs(LossSerial(x)-LossStar)))"
   ]
  },
  {
   "cell_type": "code",
   "execution_count": 16,
   "id": "9f2fe355",
   "metadata": {},
   "outputs": [
    {
     "data": {
      "text/plain": [
       "<matplotlib.legend.Legend at 0x7fd90de683d0>"
      ]
     },
     "execution_count": 16,
     "metadata": {},
     "output_type": "execute_result"
    },
    {
     "data": {
      "image/png": "[encoded data removed]",
      "text/plain": [
       "<Figure size 432x288 with 1 Axes>"
      ]
     },
     "metadata": {
      "needs_background": "light"
     },
     "output_type": "display_data"
    }
   ],
   "source": [
    "import matplotlib.pyplot as plt\n",
    "Rs = c[:][\"Residuals\"][0]\n",
    "plt.semilogy(range(len(Rs)),Rs)\n",
    "plt.title(\"Residual Decay\")\n",
    "TBCs = c[:][\"TBCHistory\"][0]\n",
    "TBCs[0]=1.\n",
    "plt.semilogy(range(len(TBCs)),TBCs)\n",
    "plt.title(\"Decay\")\n",
    "plt.legend([\"Residual\",r\"$\\sigma_0$ Compression\"])"
   ]
  },
  {
   "cell_type": "code",
   "execution_count": null,
   "id": "70cb9d33",
   "metadata": {},
   "outputs": [],
   "source": []
  }
 ],
 "metadata": {
  "kernelspec": {
   "display_name": "Python 3",
   "language": "python",
   "name": "python3"
  },
  "language_info": {
   "codemirror_mode": {
    "name": "ipython",
    "version": 3
   },
   "file_extension": ".py",
   "mimetype": "text/x-python",
   "name": "python",
   "nbconvert_exporter": "python",
   "pygments_lexer": "ipython3",
   "version": "3.8.10"
  }
 },
 "nbformat": 4,
 "nbformat_minor": 5
}
