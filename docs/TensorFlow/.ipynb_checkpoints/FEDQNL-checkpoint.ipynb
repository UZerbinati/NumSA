{
 "cells": [
  {
   "cell_type": "markdown",
   "id": "be0186b5",
   "metadata": {},
   "source": [
    "## Federated Quasi Newton Learn\n",
    "Here is proposed a version of the Federated Newton Learn algorithm combined with some of the ideas behind the quasi Newton method."
   ]
  },
  {
   "cell_type": "code",
   "execution_count": 1,
   "id": "3a1030f0",
   "metadata": {},
   "outputs": [
    {
     "data": {
      "text/plain": [
       "[0, 1]"
      ]
     },
     "execution_count": 1,
     "metadata": {},
     "output_type": "execute_result"
    }
   ],
   "source": [
    "from ipyparallel import Client\n",
    "c = Client()\n",
    "c.ids"
   ]
  },
  {
   "cell_type": "code",
   "execution_count": 2,
   "id": "b446ec34",
   "metadata": {
    "scrolled": false
   },
   "outputs": [
    {
     "data": {
      "application/vnd.jupyter.widget-view+json": {
       "model_id": "2a80d9aa579942d48617de7d5ddca136",
       "version_major": 2,
       "version_minor": 0
      },
      "text/plain": [
       "%px:   0%|          | 0/2 [00:00<?, ?tasks/s]"
      ]
     },
     "metadata": {},
     "output_type": "display_data"
    },
    {
     "data": {
      "text/plain": [
       "[stderr:0] 100%|██████████| 1000/1000 [02:19<00:00,  7.15it/s]\n"
      ]
     },
     "metadata": {},
     "output_type": "display_data"
    },
    {
     "data": {
      "text/plain": [
       "[stderr:1] 100%|██████████| 1000/1000 [02:19<00:00,  7.16it/s]\n"
      ]
     },
     "metadata": {},
     "output_type": "display_data"
    },
    {
     "data": {
      "text/plain": [
       "[stdout:0] (FedNL) [Iteration. 0] Lost funciton at this iteration 1.2675940990447998  and gradient norm 1.388305902481079\n",
       "(FedNL) [Iteration. 250] Lost funciton at this iteration 0.3385540246963501  and gradient norm 0.003481600433588028\n",
       "(FedNL) [Iteration. 500] Lost funciton at this iteration 0.33725547790527344  and gradient norm 0.0013761899899691343\n",
       "(FedNL) [Iteration. 750] Lost funciton at this iteration 0.3370071351528168  and gradient norm 0.0006752191693522036\n",
       "Lost funciton at this iteration 0.3369428217411041, gradient norm 0.020189909264445305 and error 2.771615982055664e-05.\n"
      ]
     },
     "metadata": {},
     "output_type": "display_data"
    },
    {
     "data": {
      "text/plain": [
       "[stdout:1] Lost funciton at this iteration 0.3369428217411041, gradient norm 0.020145639777183533 and error 2.771615982055664e-05.\n"
      ]
     },
     "metadata": {},
     "output_type": "display_data"
    }
   ],
   "source": [
    "%%px\n",
    "import tensorflow as tf\n",
    "import numpy as np\n",
    "import scipy.linalg as la\n",
    "import pandas as pd\n",
    "import matplotlib.pyplot as plt\n",
    "from numsa.TFHessian import *\n",
    "import dsdl\n",
    "from copy import copy\n",
    "\n",
    "comm = MPI.COMM_WORLD\n",
    "\n",
    "ds = dsdl.load(\"a1a\")\n",
    "\n",
    "X, Y = ds.get_train()\n",
    "indx = np.array_split(range(X.shape[0]),int(comm.Get_size()));\n",
    "tfX = []\n",
    "tfY = []\n",
    "for k in range(len(indx)):\n",
    "    tfX = tfX + [tf.sparse.from_dense(np.array(X[indx[comm.Get_rank()]].todense(), dtype=np.float32))]\n",
    "    tfY = tfY + [tf.convert_to_tensor(np.array(Y[indx[comm.Get_rank()]], dtype=np.float32).reshape(X[indx[comm.Get_rank()]].shape[0], 1))]\n",
    "\n",
    "tfXs = tf.sparse.from_dense(np.array(X.todense(), dtype=np.float32))\n",
    "tfYs = tf.convert_to_tensor(np.array(Y, dtype=np.float32).reshape(X.shape[0], 1))\n",
    "#Defining the Loss Function\n",
    "def LossSerial(x):\n",
    "    lam = 1e-3; #Regularisation\n",
    "    x = tf.reshape(x, (119, 1))\n",
    "    Z = tf.sparse.sparse_dense_matmul(tfXs, x, adjoint_a=False)\n",
    "    Z = tf.math.multiply(tfYs, Z)\n",
    "    S = tf.reduce_sum(tf.math.log(1 + tf.math.exp(-Z)) / tfXs.shape[0]) + lam*tf.norm(x)**2\n",
    "\n",
    "    return S\n",
    "#Defining the Loss Function\n",
    "def Loss(x,comm):\n",
    "    lam = 1e-3; #Regularisation\n",
    "    x = tf.reshape(x, (119, 1))\n",
    "    Z = tf.sparse.sparse_dense_matmul(tfX[comm.Get_rank()], x, adjoint_a=False)\n",
    "    Z = tf.math.multiply(tfY[comm.Get_rank()], Z)\n",
    "    S = tf.reduce_sum(tf.math.log(1 + tf.math.exp(-Z)) / tfX[comm.Get_rank()].shape[0]) + lam*tf.norm(x)**2\n",
    "    return S\n",
    "################! Setting Of The Solver!##################\n",
    "itmax = 1000\n",
    "tol = 1e-4;\n",
    "step_size=1;\n",
    "N = 119;\n",
    "###########################################################\n",
    "Residuals = [];\n",
    "x = tf.Variable(0.1*np.ones((119,1),dtype=np.float32))\n",
    "\n",
    "H = Hessian(Loss,x);\n",
    "H.shift(x, opt={\"type\":\"act\"})\n",
    "#We now collect and average the loc Hessians in the master node (rk 0)\n",
    "QInv = np.identity(N);\n",
    "\n",
    "#print(\"The master Hessian has been initialised\")\n",
    "for it in tqdm(range(itmax)):\n",
    "    # Obtaining the compression of the difference between local mat\n",
    "    # and next local mat.\n",
    "    U,sigma,Vt = H.shift(x,{\"comp\":ActHalko,\"rk\":1,\"type\":\"act\"});\n",
    "    #print(\"Updating local Hessian\")\n",
    "    H.memH = copy(H.vecprod);\n",
    "    grad = H.grad().numpy();\n",
    "    #Now we update the master Hessian and perform the Newton method step\n",
    "    ShiftUs = H.comm.gather(U, root=0);\n",
    "    ShiftVs = H.comm.gather(sigma[0]*Vt, root=0);\n",
    "    Grads = H.comm.gather(grad, root=0);\n",
    "    if H.comm.Get_rank() == 0:\n",
    "        #print(\"Computing the avarage of the local shifts and grad ...\")\n",
    "        u = (1/len(ShiftUs))*np.sum(ShiftUs,0);\n",
    "        v = (1/len(ShiftVs))*np.sum(ShiftVs,0);\n",
    "        Grad = (1/len(Grads))*np.sum(Grads,0);\n",
    "        res = np.linalg.norm(Grad);\n",
    "        Residuals = Residuals + [res];\n",
    "        #print(\"Computing the master Hessian ...\")\n",
    "        #SHERMAN-MORRISON\n",
    "        normal = (1+v@QInv@u);\n",
    "        #print(\"Normalisation: \",normal);\n",
    "        A = QInv@u@v@QInv;\n",
    "        #print(\"A Shape: \",A.shape)\n",
    "        QInv = QInv - (1/(1+normal))*A;\n",
    "        #print(\"Searching new search direction ...\")\n",
    "        q =  QInv@Grad;\n",
    "        #print(\"Found search dir, \",q.shape);\n",
    "        if it%250 == 0:\n",
    "            print(\"(FedNL) [Iteration. {}] Lost funciton at this iteration {}  and gradient norm {}\".format(it,LossSerial(x),np.linalg.norm(Grad)));\n",
    "        x = x - tf.Variable(q,dtype=np.float32);\n",
    "        x =  tf.Variable(x)\n",
    "    else:\n",
    "        res = None\n",
    "    #Distributing the search direction\n",
    "    x = H.comm.bcast(x,root=0)\n",
    "    res = H.comm.bcast(res,root=0)\n",
    "    if res<tol:\n",
    "            break\n",
    "LossStar =  0.33691510558128357;\n",
    "print(\"Lost funciton at this iteration {}, gradient norm {} and error {}.\".format(LossSerial(x),np.linalg.norm(grad),abs(LossSerial(x)-LossStar)))"
   ]
  },
  {
   "cell_type": "code",
   "execution_count": 4,
   "id": "9f2fe355",
   "metadata": {},
   "outputs": [
    {
     "data": {
      "text/plain": [
       "Text(0.5, 1.0, 'Residual Decay')"
      ]
     },
     "execution_count": 4,
     "metadata": {},
     "output_type": "execute_result"
    },
    {
     "data": {
      "image/png": "[encoded data removed]",
      "text/plain": [
       "<Figure size 432x288 with 1 Axes>"
      ]
     },
     "metadata": {
      "needs_background": "light"
     },
     "output_type": "display_data"
    }
   ],
   "source": [
    "import matplotlib.pyplot as plt\n",
    "Rs = c[:][\"Residuals\"][0]\n",
    "plt.plot(range(len(Rs)),Rs)\n",
    "plt.title(\"Residual Decay\")"
   ]
  }
 ],
 "metadata": {
  "kernelspec": {
   "display_name": "Python 3",
   "language": "python",
   "name": "python3"
  },
  "language_info": {
   "codemirror_mode": {
    "name": "ipython",
    "version": 3
   },
   "file_extension": ".py",
   "mimetype": "text/x-python",
   "name": "python",
   "nbconvert_exporter": "python",
   "pygments_lexer": "ipython3",
   "version": "3.8.10"
  }
 },
 "nbformat": 4,
 "nbformat_minor": 5
}
