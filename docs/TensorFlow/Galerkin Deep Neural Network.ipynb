{
 "cells": [
  {
   "cell_type": "markdown",
   "id": "8038b38e",
   "metadata": {},
   "source": [
    "## Galerkin Deep Neural Network"
   ]
  },
  {
   "cell_type": "code",
   "execution_count": 14,
   "id": "ec12cc0f",
   "metadata": {},
   "outputs": [
    {
     "name": "stdout",
     "output_type": "stream",
     "text": [
      "u(0):  tf.Tensor([[0.]], shape=(1, 1), dtype=float32)\n"
     ]
    },
    {
     "data": {
      "text/plain": [
       "[<tf.Variable 'dense_29/kernel:0' shape=(1, 4) dtype=float32, numpy=\n",
       " array([[-0.51447636, -0.48145163,  0.3419479 , -0.18891168]],\n",
       "       dtype=float32)>,\n",
       " <tf.Variable 'dense_29/bias:0' shape=(4,) dtype=float32, numpy=array([0., 0., 0., 0.], dtype=float32)>,\n",
       " <tf.Variable 'dense_30/kernel:0' shape=(4, 1) dtype=float32, numpy=\n",
       " array([[ 0.03142762],\n",
       "        [ 0.9790914 ],\n",
       "        [-0.3134948 ],\n",
       "        [ 0.8449639 ]], dtype=float32)>,\n",
       " <tf.Variable 'dense_30/bias:0' shape=(1,) dtype=float32, numpy=array([0.], dtype=float32)>]"
      ]
     },
     "execution_count": 14,
     "metadata": {},
     "output_type": "execute_result"
    }
   ],
   "source": [
    "import tensorflow as tf\n",
    "import numpy as np\n",
    "import matplotlib.pyplot as plt\n",
    "from numsa.TFHessian import *\n",
    "from random import *\n",
    "from tqdm.notebook import tqdm\n",
    "\n",
    "############| SETTINGS |############\n",
    "N = 4; #Nuerons in the Hidden Layer\n",
    "####################################\n",
    "\n",
    "u = tf.keras.Sequential([\n",
    "    tf.keras.layers.Dense(N,input_dim=1, activation='relu'),#Hidden Layer\n",
    "    tf.keras.layers.Dense(1)#10 leyers weights.\n",
    "])\n",
    "\n",
    "print(\"u(0): \", u(tf.Variable([[0]])))\n",
    "u.trainable_weights"
   ]
  }
 ],
 "metadata": {
  "kernelspec": {
   "display_name": "Python 3",
   "language": "python",
   "name": "python3"
  },
  "language_info": {
   "codemirror_mode": {
    "name": "ipython",
    "version": 3
   },
   "file_extension": ".py",
   "mimetype": "text/x-python",
   "name": "python",
   "nbconvert_exporter": "python",
   "pygments_lexer": "ipython3",
   "version": "3.8.10"
  }
 },
 "nbformat": 4,
 "nbformat_minor": 5
}
