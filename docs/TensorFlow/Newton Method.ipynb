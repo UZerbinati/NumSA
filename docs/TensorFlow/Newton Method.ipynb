{
 "cells": [
  {
   "cell_type": "markdown",
   "id": "9fbe0095",
   "metadata": {},
   "source": [
    "### Newton Method"
   ]
  },
  {
   "cell_type": "markdown",
   "id": "aab8957d",
   "metadata": {},
   "source": [
    "Our objective is to minimize the function:\n",
    "\\begin{equation}\n",
    "    f(\\vec{x}) = \\frac{1}{m} \\sum_{i=1}^m \\log\\Bigg(1+\\exp\\Big(-b_j \\vec{a_j}^T\\vec{x}\\Big)\\Bigg)\\qquad for \\; x \\in \\mathbb{R}^d\n",
    "\\end{equation}\n",
    "where $d$ is the feature number and $\\vec{a}_j$ are the data while $b_j$ are the labels.\n",
    "Now we would like to this applying the newton method to find a point that minimize such a function. This is possible because since $f$ is convex, all stationary points are minimizers and we search for the \"roots\" of the equation $\\nabla f=0$.\n",
    "The newton method we implement is of the form,\n",
    "\\begin{equation}\n",
    "    \\vec{x}_{n+1} = \\vec{x}_n -\\gamma Hf(\\vec{x}_n)^{-1}\\nabla f(\\vec{x}_n)\n",
    "\\end{equation}\n",
    "where $\\gamma$ is the step size.\n",
    "We solve the system $Hf(\\vec{x}_n)q=\\nabla f(\\vec{x}_n)$ using the CG method where as a preconditioned we have taken a the inverse of $Hf(\\vec{x}_n)$ computed using the random SVD presented in [1]."
   ]
  },
  {
   "cell_type": "code",
   "execution_count": 6,
   "id": "853a605e",
   "metadata": {},
   "outputs": [],
   "source": [
    "#We import all the library we are gona need\n",
    "import tensorflow as tf\n",
    "import numpy as np\n",
    "import pandas as pd\n",
    "%matplotlib inline\n",
    "import matplotlib.pyplot as plt\n",
    "from numsa.TFHessian import *\n",
    "import dsdl"
   ]
  },
  {
   "cell_type": "code",
   "execution_count": 7,
   "id": "67b73e8c",
   "metadata": {},
   "outputs": [
    {
     "name": "stdout",
     "output_type": "stream",
     "text": [
      "(99, 119) (99,)\n"
     ]
    }
   ],
   "source": [
    "ds = dsdl.load(\"a1a\")\n",
    "\n",
    "X, Y = ds.get_train()\n",
    "X = X[1:100];\n",
    "Y = Y[1:100];\n",
    "print(X.shape, Y.shape)"
   ]
  },
  {
   "cell_type": "code",
   "execution_count": 8,
   "id": "215af61a",
   "metadata": {
    "scrolled": false
   },
   "outputs": [
    {
     "name": "stdout",
     "output_type": "stream",
     "text": [
      "Computed the  first gradient ...\n"
     ]
    },
    {
     "name": "stderr",
     "output_type": "stream",
     "text": [
      "\r",
      "  0%|          | 0/100 [00:00<?, ?it/s]"
     ]
    },
    {
     "name": "stdout",
     "output_type": "stream",
     "text": [
      "Computed search search diratcion ...\n",
      "Entering the Netwton optimization loop\n",
      "Lost funciton at this iteration [[107.55325]]  and gradient norm 148.99732971191406\n"
     ]
    },
    {
     "name": "stderr",
     "output_type": "stream",
     "text": [
      " 10%|█         | 10/100 [02:28<22:37, 15.08s/it]"
     ]
    },
    {
     "name": "stdout",
     "output_type": "stream",
     "text": [
      "Lost funciton at this iteration [[47.29411]]  and gradient norm 50.6136360168457\n"
     ]
    },
    {
     "name": "stderr",
     "output_type": "stream",
     "text": [
      " 20%|██        | 20/100 [05:01<19:46, 14.83s/it]"
     ]
    },
    {
     "name": "stdout",
     "output_type": "stream",
     "text": [
      "Lost funciton at this iteration [[39.568394]]  and gradient norm 20.326595306396484\n"
     ]
    },
    {
     "name": "stderr",
     "output_type": "stream",
     "text": [
      " 30%|███       | 30/100 [07:35<18:12, 15.61s/it]"
     ]
    },
    {
     "name": "stdout",
     "output_type": "stream",
     "text": [
      "Lost funciton at this iteration [[36.40213]]  and gradient norm 9.324344635009766\n"
     ]
    },
    {
     "name": "stderr",
     "output_type": "stream",
     "text": [
      " 34%|███▍      | 34/100 [08:43<19:02, 17.31s/it]"
     ]
    },
    {
     "name": "stdout",
     "output_type": "stream",
     "text": [
      "Max itetation reached !\n"
     ]
    },
    {
     "name": "stderr",
     "output_type": "stream",
     "text": [
      " 40%|████      | 40/100 [10:07<14:23, 14.39s/it]"
     ]
    },
    {
     "name": "stdout",
     "output_type": "stream",
     "text": [
      "Lost funciton at this iteration [[35.06703]]  and gradient norm 6.246491432189941\n"
     ]
    },
    {
     "name": "stderr",
     "output_type": "stream",
     "text": [
      " 45%|████▌     | 45/100 [11:32<16:30, 18.01s/it]"
     ]
    },
    {
     "name": "stdout",
     "output_type": "stream",
     "text": [
      "Max itetation reached !\n"
     ]
    },
    {
     "name": "stderr",
     "output_type": "stream",
     "text": [
      " 50%|█████     | 50/100 [12:48<13:08, 15.78s/it]"
     ]
    },
    {
     "name": "stdout",
     "output_type": "stream",
     "text": [
      "Lost funciton at this iteration [[33.996437]]  and gradient norm 5.34960412979126\n"
     ]
    },
    {
     "name": "stderr",
     "output_type": "stream",
     "text": [
      " 60%|██████    | 60/100 [15:16<09:51, 14.79s/it]"
     ]
    },
    {
     "name": "stdout",
     "output_type": "stream",
     "text": [
      "Lost funciton at this iteration [[33.292046]]  and gradient norm 4.903813362121582\n"
     ]
    },
    {
     "name": "stderr",
     "output_type": "stream",
     "text": [
      " 70%|███████   | 70/100 [17:51<07:36, 15.23s/it]"
     ]
    },
    {
     "name": "stdout",
     "output_type": "stream",
     "text": [
      "Lost funciton at this iteration [[33.510406]]  and gradient norm 4.561596870422363\n"
     ]
    },
    {
     "name": "stderr",
     "output_type": "stream",
     "text": [
      " 80%|████████  | 80/100 [20:12<04:48, 14.43s/it]"
     ]
    },
    {
     "name": "stdout",
     "output_type": "stream",
     "text": [
      "Lost funciton at this iteration [[33.546192]]  and gradient norm 4.460367202758789\n"
     ]
    },
    {
     "name": "stderr",
     "output_type": "stream",
     "text": [
      " 90%|█████████ | 90/100 [22:35<02:18, 13.83s/it]"
     ]
    },
    {
     "name": "stdout",
     "output_type": "stream",
     "text": [
      "Lost funciton at this iteration [[34.895325]]  and gradient norm 4.901057243347168\n"
     ]
    },
    {
     "name": "stderr",
     "output_type": "stream",
     "text": [
      "100%|██████████| 100/100 [25:01<00:00, 15.02s/it]\n"
     ]
    }
   ],
   "source": [
    "#Setting the parameter of this run, we will use optimization nomeclature not ML one.\n",
    "itmax = 100; # Number of epoch.\n",
    "tol = 1e-4\n",
    "step_size = 0.1; #Learning rate\n",
    "#Defining the Loss Function\n",
    "def Loss(x):\n",
    "    S = tf.Variable(0.0);\n",
    "    for j in range(X.shape[0]):\n",
    "        a = tf.constant((X[j,:].todense().reshape(119,1)),dtype=np.float32);\n",
    "        b = tf.constant(Y[j],dtype=np.float32)\n",
    "        a = tf.reshape(a,(119,1));\n",
    "        x = tf.reshape(x,(119,1));\n",
    "        dot = tf.matmul(tf.transpose(a),x);\n",
    "        S = S+tf.math.log(1+tf.math.exp(-b*dot))\n",
    "    return S;\n",
    "#Defining the Hessian class for the above loss function in x0\n",
    "x = tf.Variable(0.1*np.ones((119,1),dtype=np.float32))\n",
    "H =  Hessian(Loss,x)\n",
    "grad = H.grad().numpy();\n",
    "print(\"Computed the  first gradient ...\")\n",
    "q = H.pCG(grad,10,2,tol=1e-4,itmax=20);\n",
    "print(\"Computed search search diratcion ...\")\n",
    "print(\"Entering the Netwton optimization loop\")\n",
    "for it in tqdm(range(itmax)):\n",
    "    x = x - tf.constant(step_size,dtype=np.float32)*tf.Variable(q,dtype=np.float32);\n",
    "    x =  tf.Variable(x)\n",
    "    if it%10 == 0:\n",
    "        print(\"Lost funciton at this iteration {}  and gradient norm {}\".format(Loss(x),np.linalg.norm(grad)));\n",
    "    if np.linalg.norm(grad)<tol:\n",
    "        break\n",
    "    H =  Hessian(Loss,x)\n",
    "    grad = H.grad().numpy();\n",
    "    q = H.pCG(grad,10,2,tol=1e-4,itmax=20);"
   ]
  },
  {
   "cell_type": "code",
   "execution_count": 9,
   "id": "6d1feb40",
   "metadata": {},
   "outputs": [
    {
     "name": "stdout",
     "output_type": "stream",
     "text": [
      "Lost funciton at this iteration [[35.192173]]  and gradient norm 4.761678218841553\n"
     ]
    }
   ],
   "source": [
    "print(\"Lost funciton at this iteration {}  and gradient norm {}\".format(Loss(x),np.linalg.norm(grad)));"
   ]
  }
 ],
 "metadata": {
  "kernelspec": {
   "display_name": "Python 3",
   "language": "python",
   "name": "python3"
  },
  "language_info": {
   "codemirror_mode": {
    "name": "ipython",
    "version": 3
   },
   "file_extension": ".py",
   "mimetype": "text/x-python",
   "name": "python",
   "nbconvert_exporter": "python",
   "pygments_lexer": "ipython3",
   "version": "3.8.10"
  }
 },
 "nbformat": 4,
 "nbformat_minor": 5
}
