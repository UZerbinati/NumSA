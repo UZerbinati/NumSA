{
 "cells": [
  {
   "cell_type": "markdown",
   "id": "9fbe0095",
   "metadata": {},
   "source": [
    "## Newton Method"
   ]
  },
  {
   "cell_type": "markdown",
   "id": "198bb398",
   "metadata": {},
   "source": [
    "### Quadratic Energy Minimization"
   ]
  },
  {
   "cell_type": "code",
   "execution_count": 6,
   "id": "ba04254e",
   "metadata": {},
   "outputs": [],
   "source": [
    "#We import all the library we are gona need\n",
    "import tensorflow as tf\n",
    "import numpy as np\n",
    "import pandas as pd\n",
    "%matplotlib inline\n",
    "import matplotlib.pyplot as plt\n",
    "from numsa.TFHessian import *"
   ]
  },
  {
   "cell_type": "code",
   "execution_count": 27,
   "id": "e0d684d4",
   "metadata": {},
   "outputs": [
    {
     "name": "stderr",
     "output_type": "stream",
     "text": [
      "\r",
      "  0%|          | 0/100 [00:00<?, ?it/s]"
     ]
    },
    {
     "name": "stdout",
     "output_type": "stream",
     "text": [
      "Computed the  first gradient ...\n",
      "Computed search search diratcion ...\n",
      "Entering the Netwton optimization loop\n",
      "Lost funciton at this iteration [1.4240287e-05]  and gradient norm 0.1442497819662094\n"
     ]
    },
    {
     "name": "stderr",
     "output_type": "stream",
     "text": [
      "  3%|▎         | 3/100 [00:00<00:08, 11.04it/s]"
     ]
    },
    {
     "name": "stdout",
     "output_type": "stream",
     "text": [
      "Lost funciton at this iteration [-1.3512013e-16], gradient norm 2.254687547775802e-09 and is achived at point <tf.Variable 'Variable:0' shape=(2, 1) dtype=float32, numpy=\n",
      "array([[-2.5342652e-09],\n",
      "       [ 5.3317276e-08]], dtype=float32)>\n"
     ]
    },
    {
     "name": "stderr",
     "output_type": "stream",
     "text": [
      "\n"
     ]
    }
   ],
   "source": [
    "itmax = 100; # Number of epoch.\n",
    "tol = 1e-8\n",
    "step_size = 1; #Learning rate\n",
    "def Loss(x):\n",
    "    return (x[0]**2)*(x[1]**2)+x[0]*x[1];\n",
    "#Defining the Hessian class for the above loss function in x0\n",
    "x = tf.Variable(0.1*np.ones((2,1),dtype=np.float32))\n",
    "H =  Hessian(Loss,x)\n",
    "grad = H.grad().numpy();\n",
    "print(\"Computed the  first gradient ...\")\n",
    "q = H.pCG(grad,1,1,tol=tol,itmax=100);\n",
    "print(\"Computed search search diratcion ...\")\n",
    "print(\"Entering the Netwton optimization loop\")\n",
    "for it in tqdm(range(itmax)):\n",
    "    x = x - tf.constant(step_size,dtype=np.float32)*tf.Variable(q,dtype=np.float32);\n",
    "    x =  tf.Variable(x)\n",
    "    if it%50 == 0:\n",
    "        print(\"Lost funciton at this iteration {}  and gradient norm {}\".format(Loss(x),np.linalg.norm(grad)));\n",
    "    if np.linalg.norm(grad)<tol:\n",
    "        print(\"Lost funciton at this iteration {}, gradient norm {} and is achived at point {}\"\n",
    "      .format(Loss(x),np.linalg.norm(grad),x));\n",
    "        break\n",
    "    H =  Hessian(Loss,x)\n",
    "    grad = H.grad().numpy();\n",
    "    q = H.pCG(grad,1,1,tol=tol,itmax=100);"
   ]
  },
  {
   "cell_type": "markdown",
   "id": "aab8957d",
   "metadata": {},
   "source": [
    "### Regression\n",
    "Our objective is to minimize the function:\n",
    "\\begin{equation}\n",
    "    f(\\vec{x}) = \\frac{1}{m} \\sum_{i=1}^m \\log\\Bigg(1+\\exp\\Big(-b_j \\vec{a_j}^T\\vec{x}\\Big)\\Bigg)\\qquad for \\; x \\in \\mathbb{R}^d\n",
    "\\end{equation}\n",
    "where $d$ is the feature number and $\\vec{a}_j$ are the data while $b_j$ are the labels.\n",
    "Now we would like to this applying the newton method to find a point that minimize such a function. This is possible because since $f$ is convex, all stationary points are minimizers and we search for the \"roots\" of the equation $\\nabla f=0$.\n",
    "The newton method we implement is of the form,\n",
    "\\begin{equation}\n",
    "    \\vec{x}_{n+1} = \\vec{x}_n -\\gamma Hf(\\vec{x}_n)^{-1}\\nabla f(\\vec{x}_n)\n",
    "\\end{equation}\n",
    "where $\\gamma$ is the step size.\n",
    "We solve the system $Hf(\\vec{x}_n)q=\\nabla f(\\vec{x}_n)$ using the CG method where as a preconditioned we have taken a the inverse of $Hf(\\vec{x}_n)$ computed using the random SVD presented in [1]."
   ]
  },
  {
   "cell_type": "code",
   "execution_count": 5,
   "id": "853a605e",
   "metadata": {},
   "outputs": [],
   "source": [
    "#We import all the library we are gona need\n",
    "import tensorflow as tf\n",
    "import numpy as np\n",
    "import pandas as pd\n",
    "%matplotlib inline\n",
    "import matplotlib.pyplot as plt\n",
    "from numsa.TFHessian import *\n",
    "import dsdl"
   ]
  },
  {
   "cell_type": "code",
   "execution_count": 2,
   "id": "67b73e8c",
   "metadata": {},
   "outputs": [
    {
     "name": "stdout",
     "output_type": "stream",
     "text": [
      "(99, 119) (99,)\n"
     ]
    }
   ],
   "source": [
    "ds = dsdl.load(\"a1a\")\n",
    "\n",
    "X, Y = ds.get_train()\n",
    "X = X[1:100];\n",
    "Y = Y[1:100];\n",
    "print(X.shape, Y.shape)"
   ]
  },
  {
   "cell_type": "code",
   "execution_count": 3,
   "id": "215af61a",
   "metadata": {
    "scrolled": false
   },
   "outputs": [
    {
     "name": "stdout",
     "output_type": "stream",
     "text": [
      "Computed the  first gradient ...\n"
     ]
    },
    {
     "name": "stderr",
     "output_type": "stream",
     "text": [
      "\r",
      "  0%|          | 0/10 [00:00<?, ?it/s]"
     ]
    },
    {
     "name": "stdout",
     "output_type": "stream",
     "text": [
      "Computed search search diratcion ...\n",
      "Entering the Netwton optimization loop\n",
      "Lost funciton at this iteration [[0.9008116]]  and gradient norm 1.5050230026245117\n"
     ]
    },
    {
     "name": "stderr",
     "output_type": "stream",
     "text": [
      "100%|██████████| 10/10 [05:01<00:00, 30.14s/it]\n"
     ]
    }
   ],
   "source": [
    "#Setting the parameter of this run, we will use optimization nomeclature not ML one.\n",
    "itmax = 10; # Number of epoch.\n",
    "tol = 1e-2\n",
    "step_size = 0.2; #Learning rate\n",
    "#Defining the Loss Function\n",
    "def Loss(x):\n",
    "    S = tf.Variable(0.0);\n",
    "    for j in range(X.shape[0]):\n",
    "        a = tf.constant((X[j,:].todense().reshape(119,1)),dtype=np.float32);\n",
    "        b = tf.constant(Y[j],dtype=np.float32)\n",
    "        a = tf.reshape(a,(119,1));\n",
    "        x = tf.reshape(x,(119,1));\n",
    "        dot = tf.matmul(tf.transpose(a),x);\n",
    "        S = S+tf.math.log(1+tf.math.exp(-b*dot))\n",
    "    S = (1/X.shape[0])*S;\n",
    "    return S;\n",
    "#Defining the Hessian class for the above loss function in x0\n",
    "x = tf.Variable(0.1*np.ones((119,1),dtype=np.float32))\n",
    "H =  Hessian(Loss,x)\n",
    "grad = H.grad().numpy();\n",
    "print(\"Computed the  first gradient ...\")\n",
    "q = H.pCG(grad,10,2,tol=1e-3,itmax=10);\n",
    "print(\"Computed search search diratcion ...\")\n",
    "print(\"Entering the Netwton optimization loop\")\n",
    "for it in tqdm(range(itmax)):\n",
    "    x = x - tf.constant(step_size,dtype=np.float32)*tf.Variable(q,dtype=np.float32);\n",
    "    x =  tf.Variable(x)\n",
    "    if it%50 == 0:\n",
    "        print(\"Lost funciton at this iteration {}  and gradient norm {}\".format(Loss(x),np.linalg.norm(grad)));\n",
    "    if np.linalg.norm(grad)<tol:\n",
    "        break\n",
    "    H =  Hessian(Loss,x)\n",
    "    grad = H.grad().numpy();\n",
    "    q = H.pCG(grad,10,2,tol=1e-3,itmax=10);"
   ]
  },
  {
   "cell_type": "code",
   "execution_count": 4,
   "id": "6d1feb40",
   "metadata": {},
   "outputs": [
    {
     "name": "stdout",
     "output_type": "stream",
     "text": [
      "Lost funciton at this iteration [[0.47459954]]  and gradient norm 0.20547236502170563\n"
     ]
    }
   ],
   "source": [
    "print(\"Lost funciton at this iteration {}  and gradient norm {}\".format(Loss(x),np.linalg.norm(grad)));"
   ]
  }
 ],
 "metadata": {
  "kernelspec": {
   "display_name": "Python 3",
   "language": "python",
   "name": "python3"
  },
  "language_info": {
   "codemirror_mode": {
    "name": "ipython",
    "version": 3
   },
   "file_extension": ".py",
   "mimetype": "text/x-python",
   "name": "python",
   "nbconvert_exporter": "python",
   "pygments_lexer": "ipython3",
   "version": "3.8.10"
  }
 },
 "nbformat": 4,
 "nbformat_minor": 5
}
