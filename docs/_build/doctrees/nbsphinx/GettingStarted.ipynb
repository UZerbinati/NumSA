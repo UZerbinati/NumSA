{
 "cells": [
  {
   "cell_type": "markdown",
   "metadata": {},
   "source": [
    "# NumSA\n",
    "NumSA is a highly modular numerical analysis toolbox I developed during my stay at, King Abdullah University Of Science and Technology 2020.\n",
    "NumSA rely on the following dependencies to work:\n",
    "- PyBind11, this it the C++ Python binder, more info [here](https://pybind11.readthedocs.io/en/stable/),\n",
    "- Eigen, this is the linear algebra library we decied to use, more info [here](https://eigen.tuxfamily.org/),\n"
   ]
  },
  {
   "cell_type": "markdown",
   "metadata": {},
   "source": [
    "## Getting Started\n",
    "### PyBind11\n",
    "To compile pybind11 move in the pybind11 folder (dep/pybind11) and use the following commands,\n",
    "```\n",
    "mkdir build\n",
    "cd build\n",
    "cmake ..\n",
    "make check -j 4\n",
    "```\n",
    "### Eigen\n",
    "To compile QHull move in the pybind11 folder (dep/QHull) and use the following commands,\n",
    "```\n",
    "mkdir build\n",
    "cd build\n",
    "cmake ..\n",
    "make install\n",
    "```\n",
    "last operation might require root privileges.\n",
    "An other possibility in Debian system is to install the package using the following command,\n",
    "```\n",
    "apt-get install libeigen3-dev\n",
    "```\n",
    "last operation might require root privileges.\n",
    "\n",
    "### PyGmsh and PyVista\n",
    "```\n",
    "apt-get install python3-gmsh\n",
    "pip install pygmsh\n",
    "pip install pyvista\n",
    "```\n",
    "last operation might require root privileges."
   ]
  },
  {
   "cell_type": "code",
   "execution_count": null,
   "metadata": {},
   "outputs": [],
   "source": []
  }
 ],
 "metadata": {
  "kernelspec": {
   "display_name": "Python 3",
   "language": "python",
   "name": "python3"
  },
  "language_info": {
   "codemirror_mode": {
    "name": "ipython",
    "version": 3
   },
   "file_extension": ".py",
   "mimetype": "text/x-python",
   "name": "python",
   "nbconvert_exporter": "python",
   "pygments_lexer": "ipython3",
   "version": "3.8.10"
  },
  "latex_envs": {
   "LaTeX_envs_menu_present": true,
   "autoclose": false,
   "autocomplete": true,
   "bibliofile": "biblio.bib",
   "cite_by": "apalike",
   "current_citInitial": 1,
   "eqLabelWithNumbers": true,
   "eqNumInitial": 1,
   "hotkeys": {
    "equation": "Ctrl-E",
    "itemize": "Ctrl-I"
   },
   "labels_anchors": false,
   "latex_user_defs": false,
   "report_style_numbering": false,
   "user_envs_cfg": false
  }
 },
 "nbformat": 4,
 "nbformat_minor": 2
}
