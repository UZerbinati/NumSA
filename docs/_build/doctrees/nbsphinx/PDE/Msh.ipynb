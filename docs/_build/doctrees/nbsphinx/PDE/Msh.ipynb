{
 "cells": [
  {
   "cell_type": "markdown",
   "id": "86c28547",
   "metadata": {},
   "source": [
    "# Mesh and Mesh Function\n",
    "NumSA support a wide variaety of mesher as long as a wrapper that provide the mesh in NumSA structure is give, let us being exploring a bit the mesh clas."
   ]
  },
  {
   "cell_type": "code",
   "execution_count": 1,
   "id": "6ab241f9",
   "metadata": {},
   "outputs": [
    {
     "name": "stdout",
     "output_type": "stream",
     "text": [
      "NumSA, version 0.0.1\n",
      "Umberto Zerbinati Copyright 2021\n",
      "Devloped at KAUST, Saudi Arabia\n"
     ]
    }
   ],
   "source": [
    "import numpy as np\n",
    "import numsa\n",
    "import numsa.core as fem\n",
    "numsa.info()"
   ]
  },
  {
   "cell_type": "markdown",
   "id": "33abb47b",
   "metadata": {},
   "source": [
    "We start by setting up a mesh, that is randomaly initialised at the begining, we can create the actual mesh pushing points and cells in the mesh object. We will also show how to access some information regarding the mesh."
   ]
  },
  {
   "cell_type": "code",
   "execution_count": 2,
   "id": "89efdf3a",
   "metadata": {},
   "outputs": [
    {
     "name": "stdout",
     "output_type": "stream",
     "text": [
      "Mesh Dimension: 1\n",
      "Poins: \n",
      "[ -0.444451\n",
      "   0.10794\n",
      "-0.0452059]\n",
      "Cells: \n",
      "[ 0 0 0 ]\n",
      "\n"
     ]
    }
   ],
   "source": [
    "mesh = fem.Mesh(1);\n",
    "print(mesh)"
   ]
  },
  {
   "cell_type": "code",
   "execution_count": 3,
   "id": "af15ecaa",
   "metadata": {},
   "outputs": [
    {
     "name": "stdout",
     "output_type": "stream",
     "text": [
      "Number of cell in the mesh is 3.\n"
     ]
    },
    {
     "data": {
      "text/plain": [
       "Mesh Dimension: 1\n",
       "Poins: \n",
       "[0]\n",
       "[0.333333]\n",
       "[0.666667]\n",
       "[1]\n",
       "Cells: \n",
       "[ 0 1 ]\n",
       "[ 1 2 ]\n",
       "[ 2 3 ]"
      ]
     },
     "execution_count": 3,
     "metadata": {},
     "output_type": "execute_result"
    }
   ],
   "source": [
    "mesh.SetPoints([[0.0],[1/3],[2/3],[1.0]]);\n",
    "mesh.SetCells([[0,1],[1,2],[2,3]]);\n",
    "print(\"Number of cell in the mesh is {}.\".format(mesh.ElNumber()))\n",
    "mesh"
   ]
  },
  {
   "cell_type": "code",
   "execution_count": 4,
   "id": "6452aa7b",
   "metadata": {},
   "outputs": [
    {
     "data": {
      "text/plain": [
       "CInf is space used to approximate smooth function using finite differences schemes."
      ]
     },
     "execution_count": 4,
     "metadata": {},
     "output_type": "execute_result"
    }
   ],
   "source": [
    "V = fem.CInf(mesh)\n",
    "V"
   ]
  },
  {
   "cell_type": "code",
   "execution_count": 6,
   "id": "86ec72f1",
   "metadata": {},
   "outputs": [
    {
     "data": {
      "text/plain": [
       "array([[1.]])"
      ]
     },
     "execution_count": 6,
     "metadata": {},
     "output_type": "execute_result"
    }
   ],
   "source": [
    "Dofs = np.array([0.0,1.0,1.0,0.0])\n",
    "V.GetValue(Dofs,np.array([1/3]))"
   ]
  }
 ],
 "metadata": {
  "kernelspec": {
   "display_name": "Python 3",
   "language": "python",
   "name": "python3"
  },
  "language_info": {
   "codemirror_mode": {
    "name": "ipython",
    "version": 3
   },
   "file_extension": ".py",
   "mimetype": "text/x-python",
   "name": "python",
   "nbconvert_exporter": "python",
   "pygments_lexer": "ipython3",
   "version": "3.8.10"
  }
 },
 "nbformat": 4,
 "nbformat_minor": 5
}
