{
 "cells": [
  {
   "cell_type": "code",
   "execution_count": 1,
   "id": "6a867bef",
   "metadata": {},
   "outputs": [
    {
     "name": "stderr",
     "output_type": "stream",
     "text": [
      "/home/uzerbinati/.local/lib/python3.8/site-packages/numpy/ctypeslib.py:517: RuntimeWarning: A builtin ctypes object gave a PEP3118 format string that does not match its itemsize, so a best-guess will be made of the data type. Newer versions of python may behave correctly.\n",
      "  return array(obj, copy=False)\n"
     ]
    }
   ],
   "source": [
    "import pygmsh\n",
    "\n",
    "with pygmsh.geo.Geometry() as geom:\n",
    "    geom.add_polygon(\n",
    "        [\n",
    "            [0.0, 0.0],\n",
    "            [1.0, -0.2],\n",
    "            [1.1, 1.2],\n",
    "            [0.1, 0.7],\n",
    "        ],\n",
    "        mesh_size=0.1,\n",
    "    )\n",
    "    mesh = geom.generate_mesh()\n",
    "    mesh.write(\"test.vtk\")"
   ]
  },
  {
   "cell_type": "code",
   "execution_count": null,
   "id": "47079594",
   "metadata": {},
   "outputs": [],
   "source": []
  }
 ],
 "metadata": {
  "kernelspec": {
   "display_name": "Python 3",
   "language": "python",
   "name": "python3"
  },
  "language_info": {
   "codemirror_mode": {
    "name": "ipython",
    "version": 3
   },
   "file_extension": ".py",
   "mimetype": "text/x-python",
   "name": "python",
   "nbconvert_exporter": "python",
   "pygments_lexer": "ipython3",
   "version": "3.8.10"
  }
 },
 "nbformat": 4,
 "nbformat_minor": 5
}
